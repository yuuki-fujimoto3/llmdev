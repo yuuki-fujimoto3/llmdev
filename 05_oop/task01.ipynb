{
 "cells": [
  {
   "cell_type": "markdown",
   "id": "30682068",
   "metadata": {},
   "source": [
    "# 仕様"
   ]
  },
  {
   "cell_type": "markdown",
   "id": "e8445726",
   "metadata": {},
   "source": [
    "__クラスの仕様：__\\\n",
    "`BankAccount` クラスを作成し、残高を管理するための属性を定義してください。\n",
    "- 残高（balance）属性を定義し、初期残高を指定してインスタンス化できるようにします。残高属性は外部から直接アクセスできないようにしてください。\n",
    "- 以下のメソッドを定義してください。\n",
    "  - `deposit(amount)`: 預け入れメソッド。指定された金額を残高に追加します。\\\n",
    "    預け入れる金額が0より小さい場合は \\\n",
    "    `エラー: 正しい金額を入力してください` と表示して処理を終了します。\n",
    "  - `withdraw(amount)`: 引き出しメソッド。指定された金額を残高から引き出します。\\\n",
    "    引き出し可能な場合のみ残高を減らし、残高不足や0以下の金額を指定した場合は \\\n",
    "    `エラー: 残高不足または無効な金額です` と表示して処理を終了します。\n",
    "  - `get_balance()`: 現在の残高を返します。\n",
    "\n",
    "__呼び出し側の仕様：__\\\n",
    "以下の操作を順に行ってください。\n",
    "- 初期残高1000円で `BankAccount` クラスのインスタンスを作成\n",
    "- 500円を預け入れ\n",
    "- 200円を引き出し\n",
    "- 現在の残高を表示（`1300` と表示される）\n",
    "- 1500円を引き出そうとする（エラー: 残高不足または無効な金額です。）"
   ]
  },
  {
   "cell_type": "markdown",
   "id": "662a62d1",
   "metadata": {},
   "source": [
    "## 実行結果の例"
   ]
  },
  {
   "cell_type": "markdown",
   "id": "8c05a7e6",
   "metadata": {},
   "source": [
    "上記の呼び出し側の仕様で実装した場合：\n",
    "\n",
    ">1300\\\n",
    "エラー: 残高不足または無効な金額です。"
   ]
  },
  {
   "cell_type": "markdown",
   "id": "02fa7c36",
   "metadata": {},
   "source": [
    "預け入れ時に無効な金額（-500など）を指定した場合：\n",
    "\n",
    ">エラー: 正しい金額を入力してください"
   ]
  },
  {
   "cell_type": "markdown",
   "id": "3f397533",
   "metadata": {},
   "source": [
    "# プログラム"
   ]
  },
  {
   "cell_type": "code",
   "execution_count": null,
   "id": "becb3655",
   "metadata": {},
   "outputs": [
    {
     "name": "stdout",
     "output_type": "stream",
     "text": [
      "1300\n",
      "エラー: 残高不足または無効な金額です\n",
      "\n",
      "エラー: 正しい金額を入力してください\n"
     ]
    }
   ],
   "source": [
    "class BankAccount:\n",
    "    def __init__(self, init_deposit: int):\n",
    "        if init_deposit < 0:\n",
    "            init_deposit = 0\n",
    "        self.__balance = init_deposit\n",
    "        \n",
    "    def get_balance(self) -> int:\n",
    "        return self.__balance\n",
    "    \n",
    "    def deposit(self, amount: int) -> bool:\n",
    "        if amount < 0:\n",
    "            print(\"エラー: 正しい金額を入力してください\")\n",
    "            return False\n",
    "        self.__balance += amount\n",
    "        return True\n",
    "\n",
    "    def withdraw(self, amount: int) -> bool:\n",
    "        if self.__balance < amount or amount <= 0:\n",
    "            print(\"エラー: 残高不足または無効な金額です\")\n",
    "            return False\n",
    "        self.__balance -= amount\n",
    "        return True\n",
    "\n",
    "# パターン１\n",
    "bank = BankAccount(1000)\n",
    "bank.deposit(500)\n",
    "bank.withdraw(200)\n",
    "print(bank.get_balance())\n",
    "bank.withdraw(1500)\n",
    "\n",
    "print()\n",
    "# パターン２\n",
    "bank2 = BankAccount(1000)\n",
    "bank2.deposit(-100)\n",
    "\n",
    "pass"
   ]
  },
  {
   "cell_type": "markdown",
   "id": "1c140421",
   "metadata": {},
   "source": [
    "## 実行結果"
   ]
  },
  {
   "cell_type": "markdown",
   "id": "e3ec5c47",
   "metadata": {},
   "source": [
    ">1300\\\n",
    "エラー: 残高不足または無効な金額です。\n",
    "\n",
    ">エラー: 正しい金額を入力してください"
   ]
  }
 ],
 "metadata": {
  "kernelspec": {
   "display_name": ".venv",
   "language": "python",
   "name": "python3"
  },
  "language_info": {
   "codemirror_mode": {
    "name": "ipython",
    "version": 3
   },
   "file_extension": ".py",
   "mimetype": "text/x-python",
   "name": "python",
   "nbconvert_exporter": "python",
   "pygments_lexer": "ipython3",
   "version": "3.12.10"
  }
 },
 "nbformat": 4,
 "nbformat_minor": 5
}
