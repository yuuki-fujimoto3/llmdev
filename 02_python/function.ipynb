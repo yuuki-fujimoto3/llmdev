{
 "cells": [
  {
   "cell_type": "markdown",
   "id": "31d7731e",
   "metadata": {},
   "source": [
    "#### <u>`print()`</u>"
   ]
  },
  {
   "cell_type": "code",
   "execution_count": 2,
   "id": "58630179",
   "metadata": {},
   "outputs": [
    {
     "name": "stdout",
     "output_type": "stream",
     "text": [
      "Hello, Python!\n",
      "123\n",
      "testtest\n"
     ]
    }
   ],
   "source": [
    "print(\"Hello, Python!\")             # 出力: Hello, Python!\n",
    "print(123)                          # 出力: 123\n",
    "print(\"test\", end=\"\", flush=True)   # 出力: test\n",
    "print(\"test\",         flush=True)   # 出力: 前の行に続けて test"
   ]
  },
  {
   "cell_type": "markdown",
   "id": "3f4c09cf",
   "metadata": {},
   "source": [
    "#### <u>`len()`</u>"
   ]
  },
  {
   "cell_type": "code",
   "execution_count": 3,
   "id": "23ae2b11",
   "metadata": {},
   "outputs": [
    {
     "name": "stdout",
     "output_type": "stream",
     "text": [
      "6\n",
      "4\n"
     ]
    }
   ],
   "source": [
    "print(len(\"Python\"))        # 出力: 6（文字数）\n",
    "print(len([1, 2, 3, 4]))    # 出力: 4（リストの要素数）"
   ]
  },
  {
   "cell_type": "markdown",
   "id": "817c900c",
   "metadata": {},
   "source": [
    "#### <u>`type()`</u>"
   ]
  },
  {
   "cell_type": "code",
   "execution_count": 4,
   "id": "e4f0bdfb",
   "metadata": {},
   "outputs": [
    {
     "name": "stdout",
     "output_type": "stream",
     "text": [
      "<class 'int'>\n",
      "<class 'str'>\n",
      "<class 'list'>\n"
     ]
    }
   ],
   "source": [
    "print(type(123))        # 出力: <class 'int'>\n",
    "print(type(\"Python\"))   # 出力: <class 'str'>\n",
    "print(type([1, 2, 3]))  # 出力: <class 'list'>"
   ]
  },
  {
   "cell_type": "markdown",
   "id": "535f279e",
   "metadata": {},
   "source": [
    "#### <u>`max()` と `min()`</u>"
   ]
  },
  {
   "cell_type": "code",
   "execution_count": 5,
   "id": "0cd4a9b9",
   "metadata": {},
   "outputs": [
    {
     "name": "stdout",
     "output_type": "stream",
     "text": [
      "20\n",
      "5\n",
      "c\n",
      "1\n"
     ]
    }
   ],
   "source": [
    "print(max(5, 10, 20))       # 出力: 20\n",
    "print(min(5, 10, 20))       # 出力: 5\n",
    "print(max(\"a\", \"b\", \"c\"))   # 出力: 'c'\n",
    "print(min([1, 2, 3, 4, 5])) # 出力: 1"
   ]
  },
  {
   "cell_type": "markdown",
   "id": "456f1954",
   "metadata": {},
   "source": [
    "#### <u>`sum()`</u>"
   ]
  },
  {
   "cell_type": "code",
   "execution_count": 7,
   "id": "5afef328",
   "metadata": {},
   "outputs": [
    {
     "name": "stdout",
     "output_type": "stream",
     "text": [
      "10\n",
      "60\n"
     ]
    }
   ],
   "source": [
    "print(sum([1, 2, 3, 4]))    # 出力: 10\n",
    "print(sum((10, 20, 30)))    # 出力: 60"
   ]
  },
  {
   "cell_type": "markdown",
   "id": "4f89eb1d",
   "metadata": {},
   "source": [
    "#### <u>`range()`</u>"
   ]
  },
  {
   "cell_type": "code",
   "execution_count": 8,
   "id": "bf8bf220",
   "metadata": {},
   "outputs": [
    {
     "name": "stdout",
     "output_type": "stream",
     "text": [
      "0\n",
      "1\n",
      "2\n",
      "3\n",
      "4\n",
      "[1, 3, 5, 7, 9]\n"
     ]
    }
   ],
   "source": [
    "for i in range(5):              # 出力: 0 1 2 3 4\n",
    "    print(i)\n",
    "print(list(range(1, 10, 2)))    # 出力: [1, 3, 5, 7, 9]"
   ]
  },
  {
   "cell_type": "markdown",
   "id": "209d5a3f",
   "metadata": {},
   "source": [
    "#### <u>組み込み関数の練習問題</u>"
   ]
  },
  {
   "cell_type": "markdown",
   "id": "d358e3c1",
   "metadata": {},
   "source": [
    "##### 文字数をカウント"
   ]
  },
  {
   "cell_type": "code",
   "execution_count": 9,
   "id": "f5cf6cf0",
   "metadata": {},
   "outputs": [
    {
     "name": "stdout",
     "output_type": "stream",
     "text": [
      "文字数: 2\n"
     ]
    }
   ],
   "source": [
    "name = input(\"名前を入力してください: \")\n",
    "print(\"文字数:\", len(name))"
   ]
  },
  {
   "cell_type": "markdown",
   "id": "c3a66d1e",
   "metadata": {},
   "source": [
    "##### リスト内の最大値と合計値"
   ]
  },
  {
   "cell_type": "code",
   "execution_count": 10,
   "id": "8c8ead57",
   "metadata": {},
   "outputs": [
    {
     "name": "stdout",
     "output_type": "stream",
     "text": [
      "最大値: 50\n",
      "合計: 150\n"
     ]
    }
   ],
   "source": [
    "numbers = [10, 20, 30, 40, 50]\n",
    "print(\"最大値:\", max(numbers))\n",
    "print(\"合計:\", sum(numbers))"
   ]
  },
  {
   "cell_type": "markdown",
   "id": "eea3ac1f",
   "metadata": {},
   "source": [
    "##### 特定範囲の数を表示"
   ]
  },
  {
   "cell_type": "code",
   "execution_count": 11,
   "id": "c5952f83",
   "metadata": {},
   "outputs": [
    {
     "name": "stdout",
     "output_type": "stream",
     "text": [
      "1\n",
      "3\n",
      "5\n",
      "7\n",
      "9\n"
     ]
    }
   ],
   "source": [
    "for i in range(1, 11, 2):\n",
    "    print(i)"
   ]
  }
 ],
 "metadata": {
  "kernelspec": {
   "display_name": ".venv",
   "language": "python",
   "name": "python3"
  },
  "language_info": {
   "codemirror_mode": {
    "name": "ipython",
    "version": 3
   },
   "file_extension": ".py",
   "mimetype": "text/x-python",
   "name": "python",
   "nbconvert_exporter": "python",
   "pygments_lexer": "ipython3",
   "version": "3.12.10"
  }
 },
 "nbformat": 4,
 "nbformat_minor": 5
}
