{
 "cells": [
  {
   "cell_type": "markdown",
   "id": "4628736e",
   "metadata": {},
   "source": [
    "# 仕様（原文そのまま引用）"
   ]
  },
  {
   "cell_type": "markdown",
   "id": "1a62bb90",
   "metadata": {},
   "source": [
    "- ユーザーに2つの数値を入力させ、それらを割り算するプログラムを作成してください。\n",
    "- 数値の代わりに文字を入力した場合は「エラー: 数値を入力してください」と表示します。\n",
    "- 割る数が0の場合は「エラー: 0で割ることはできません」と表示します。\n",
    "- 計算が正常に完了した場合、結果を表示してください。"
   ]
  },
  {
   "cell_type": "markdown",
   "id": "5046d54a",
   "metadata": {},
   "source": [
    "## 実行結果の例"
   ]
  },
  {
   "cell_type": "markdown",
   "id": "2ff182b1",
   "metadata": {},
   "source": [
    "1つ目の数を `100`、2つ目の数を `10` と入力した場合\n",
    "\n",
    ">計算結果: 10.0"
   ]
  },
  {
   "cell_type": "markdown",
   "id": "8204d4e4",
   "metadata": {},
   "source": [
    "1つ目の数を `100`、2つ目の数を `0` と入力した場合\n",
    "\n",
    ">エラー: 0で割ることはできません"
   ]
  },
  {
   "cell_type": "markdown",
   "id": "a9a124fb",
   "metadata": {},
   "source": [
    "1つ目の数を `a` と入力した場合\n",
    "\n",
    ">エラー: 数値を入力してください"
   ]
  },
  {
   "cell_type": "markdown",
   "id": "559ce365",
   "metadata": {},
   "source": [
    "1つ目の数を `100`、2つ目の数を `b` と入力した場合\n",
    "\n",
    ">エラー: 数値を入力してください"
   ]
  },
  {
   "cell_type": "markdown",
   "id": "3c17a81d",
   "metadata": {},
   "source": [
    "# プログラム"
   ]
  },
  {
   "cell_type": "code",
   "execution_count": 15,
   "id": "c3727d9d",
   "metadata": {},
   "outputs": [
    {
     "name": "stdout",
     "output_type": "stream",
     "text": [
      "エラー: 数値を入力してください\n"
     ]
    }
   ],
   "source": [
    "input_str   = None  # 入力文字列\n",
    "dividend    = None  # 割られる数\n",
    "divisor     = None  # 割る数\n",
    "result      = None  # 計算結果\n",
    "\n",
    "input_str = input(\"１つ目の数（割られる数）を入力してください: \")\n",
    "try:\n",
    "    dividend = int(input_str)\n",
    "except ValueError:\n",
    "    print(\"エラー: 数値を入力してください\")\n",
    "else:\n",
    "    \n",
    "    input_str = input(\"２つ目の数（割る側の数）を入力してください: \")\n",
    "    try:\n",
    "        divisor = int(input_str)\n",
    "    except ValueError:\n",
    "        print(\"エラー: 数値を入力してください\")\n",
    "    else:\n",
    "        \n",
    "        try:\n",
    "            if divisor == 0:\n",
    "                raise ZeroDivisionError(\"エラー: 0で割ることはできません\")\n",
    "        except ZeroDivisionError as e:\n",
    "            print(e)\n",
    "        else:\n",
    "            result = dividend / divisor\n",
    "            print(f\"計算結果: {result}\")\n",
    "\n"
   ]
  },
  {
   "cell_type": "markdown",
   "id": "11a01d32",
   "metadata": {},
   "source": [
    "## 実行結果"
   ]
  },
  {
   "cell_type": "markdown",
   "id": "3546cf24",
   "metadata": {},
   "source": [
    "1つ目の数を `100`、2つ目の数を `10` と入力した場合\n",
    "\n",
    ">計算結果: 10.0"
   ]
  },
  {
   "cell_type": "markdown",
   "id": "e422b611",
   "metadata": {},
   "source": [
    "1つ目の数を `100`、2つ目の数を `0` と入力した場合\n",
    "\n",
    ">エラー: 0で割ることはできません"
   ]
  },
  {
   "cell_type": "markdown",
   "id": "ba45d857",
   "metadata": {},
   "source": [
    "1つ目の数を `a` と入力した場合\n",
    "\n",
    ">エラー: 数値を入力してください"
   ]
  },
  {
   "cell_type": "markdown",
   "id": "b2790738",
   "metadata": {},
   "source": [
    "1つ目の数を `100`、2つ目の数を `b` と入力した場合\n",
    "\n",
    ">エラー: 数値を入力してください"
   ]
  }
 ],
 "metadata": {
  "kernelspec": {
   "display_name": ".venv",
   "language": "python",
   "name": "python3"
  },
  "language_info": {
   "codemirror_mode": {
    "name": "ipython",
    "version": 3
   },
   "file_extension": ".py",
   "mimetype": "text/x-python",
   "name": "python",
   "nbconvert_exporter": "python",
   "pygments_lexer": "ipython3",
   "version": "3.12.10"
  }
 },
 "nbformat": 4,
 "nbformat_minor": 5
}
