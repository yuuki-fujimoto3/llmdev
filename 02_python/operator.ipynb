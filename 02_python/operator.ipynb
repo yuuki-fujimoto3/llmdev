{
 "cells": [
  {
   "cell_type": "markdown",
   "id": "e75115e4",
   "metadata": {},
   "source": [
    "### Chapter 4.1"
   ]
  },
  {
   "cell_type": "code",
   "execution_count": null,
   "id": "0c92823c",
   "metadata": {},
   "outputs": [
    {
     "name": "stdout",
     "output_type": "stream",
     "text": [
      "加算:  13\n",
      "減算:  7\n",
      "乗算:  30\n",
      "割算（浮動小数点）:  3.3333333333333335\n",
      "整数除算:  3\n",
      "余り:  1\n",
      "累乗:  1000\n"
     ]
    }
   ],
   "source": [
    "# 算術演算子の例\n",
    "a = 10\n",
    "b =  3\n",
    "\n",
    "sum_result          = a +  b\n",
    "diff_result         = a -  b\n",
    "product_result      = a *  b\n",
    "quotient_result     = a /  b    # 割り算（結果は浮動小数点）\n",
    "int_quotient_result = a // b    # 整数除算\n",
    "remainder_result    = a %  b\n",
    "power_result        = a ** b    # 累乗\n",
    "\n",
    "print(\"加算: \"              ,          sum_result)  #   13\n",
    "print(\"減算: \"              ,         diff_result)  #    7\n",
    "print(\"乗算: \"              ,      product_result)  #   30\n",
    "print(\"割算（浮動小数点）: \" ,    quotient_result)  #    3.333... \n",
    "print(\"整数除算: \"          , int_quotient_result)  #    3\n",
    "print(\"余り: \"              ,    remainder_result)  #    1\n",
    "print(\"累乗: \"              ,        power_result)  # 1000"
   ]
  },
  {
   "cell_type": "code",
   "execution_count": 2,
   "id": "370aafff",
   "metadata": {},
   "outputs": [
    {
     "ename": "ZeroDivisionError",
     "evalue": "division by zero",
     "output_type": "error",
     "traceback": [
      "\u001b[31m---------------------------------------------------------------------------\u001b[39m",
      "\u001b[31mZeroDivisionError\u001b[39m                         Traceback (most recent call last)",
      "\u001b[36mCell\u001b[39m\u001b[36m \u001b[39m\u001b[32mIn[2]\u001b[39m\u001b[32m, line 5\u001b[39m\n\u001b[32m      2\u001b[39m a = \u001b[32m10\u001b[39m\n\u001b[32m      3\u001b[39m b =  \u001b[32m0\u001b[39m\n\u001b[32m----> \u001b[39m\u001b[32m5\u001b[39m quotient_result = \u001b[43ma\u001b[49m\u001b[43m \u001b[49m\u001b[43m/\u001b[49m\u001b[43m \u001b[49m\u001b[43mb\u001b[49m \u001b[38;5;66;03m# 割り算（エラーとなる）\u001b[39;00m\n",
      "\u001b[31mZeroDivisionError\u001b[39m: division by zero"
     ]
    }
   ],
   "source": [
    "# ゼロ除算エラーの例\n",
    "a = 10\n",
    "b =  0\n",
    "\n",
    "quotient_result = a / b # 割り算（エラーとなる）"
   ]
  },
  {
   "cell_type": "markdown",
   "id": "fee8509c",
   "metadata": {},
   "source": [
    "### Chapter 4.2"
   ]
  },
  {
   "cell_type": "code",
   "execution_count": 3,
   "id": "5ad24a1e",
   "metadata": {},
   "outputs": [
    {
     "name": "stdout",
     "output_type": "stream",
     "text": [
      "x += 5:  15\n",
      "x -= 3:  12\n",
      "x *= 3:  24\n",
      "x /= 3:  6.0\n",
      "x //= 3:  1.0\n",
      "x %= 3:  1.0\n",
      "x **= 3:  1.0\n"
     ]
    }
   ],
   "source": [
    "# 複合代入演算子の例\n",
    "x   = 10\n",
    "x  +=  5    # x = x + 5\n",
    "print(\"x += 5: \", x)    # 15\n",
    "\n",
    "x  -=  3    # x = x - 3\n",
    "print(\"x -= 3: \", x)    # 12\n",
    "\n",
    "x  *=  2    # x = x * 2\n",
    "print(\"x *= 3: \", x)    # 24\n",
    "\n",
    "x  /=  4    # x = x / 4\n",
    "print(\"x /= 3: \", x)    #  6.0\n",
    "\n",
    "x //=  5    # x = x // 5\n",
    "print(\"x //= 3: \", x)   #  1.0\n",
    "\n",
    "x  %=  3    # x = x % 3\n",
    "print(\"x %= 3: \", x)    #  1.0\n",
    "\n",
    "x **=  3    # x = x ** 3\n",
    "print(\"x **= 3: \", x)   #  1.0\n"
   ]
  },
  {
   "cell_type": "markdown",
   "id": "5d6bb794",
   "metadata": {},
   "source": [
    "### Chapter 4.3"
   ]
  },
  {
   "cell_type": "code",
   "execution_count": 4,
   "id": "aeaf01e6",
   "metadata": {},
   "outputs": [
    {
     "name": "stdout",
     "output_type": "stream",
     "text": [
      "a > b:  True\n",
      "a < b:  False\n",
      "a >= b:  True\n",
      "a <= b:  False\n",
      "a == b:  False\n",
      "a != b:  True\n"
     ]
    }
   ],
   "source": [
    "# 比較演算子の例\n",
    "a = 10\n",
    "b =  5\n",
    "\n",
    "print(\"a > b: \" , a >  b)   # True\n",
    "print(\"a < b: \" , a <  b)   # False\n",
    "print(\"a >= b: \", a >= b)   # True\n",
    "print(\"a <= b: \", a <= b)   # False\n",
    "print(\"a == b: \", a == b)   # False\n",
    "print(\"a != b: \", a != b)   # True"
   ]
  },
  {
   "cell_type": "code",
   "execution_count": 5,
   "id": "f6d46e16",
   "metadata": {},
   "outputs": [
    {
     "name": "stdout",
     "output_type": "stream",
     "text": [
      "100 < x < 200:  True\n",
      "100 < y < 200:  False\n"
     ]
    }
   ],
   "source": [
    "# 連続比較の例\n",
    "x = 150\n",
    "print(\"100 < x < 200: \", 100 < x < 200) # True\n",
    "\n",
    "y =  50\n",
    "print(\"100 < y < 200: \", 100 < y < 200) # False"
   ]
  },
  {
   "cell_type": "markdown",
   "id": "4f73b83b",
   "metadata": {},
   "source": [
    "### Chapter 4.4"
   ]
  },
  {
   "cell_type": "code",
   "execution_count": 7,
   "id": "6777d563",
   "metadata": {},
   "outputs": [
    {
     "name": "stdout",
     "output_type": "stream",
     "text": [
      "10 < x and x < 20:  True\n",
      "x < 10 or x > 20:  False\n",
      "not (x == 15):  False\n"
     ]
    }
   ],
   "source": [
    "# 論理演算子の例\n",
    "x = 15\n",
    "print(\"10 < x and x < 20: \", 10 <  x and x < 20)    # True\n",
    "print(\"x < 10 or x > 20: \" ,  x < 10  or x > 20)    # False\n",
    "print(\"not (x == 15): \"    , not(x == 15)      )    # False"
   ]
  },
  {
   "cell_type": "code",
   "execution_count": 8,
   "id": "fc71500a",
   "metadata": {},
   "outputs": [
    {
     "name": "stdout",
     "output_type": "stream",
     "text": [
      "a & b:  0b1000\n",
      "a | b:  0b1110\n",
      "a ^ b:  0b110\n",
      "a << 1:  0b11000\n",
      "a >> 1:  0b110\n"
     ]
    }
   ],
   "source": [
    "# ビット演算子の例\n",
    "a = 0b1100  # 12\n",
    "b = 0b1010  # 10\n",
    "\n",
    "print(\"a & b: \" , bin(a &  b))  # 0b 1000\n",
    "print(\"a | b: \" , bin(a |  b))  # 0b 1110\n",
    "print(\"a ^ b: \" , bin(a ^  b))  # 0b 0110\n",
    "print(\"a << 1: \", bin(a << 1))  # 0b11000\n",
    "print(\"a >> 1: \", bin(a >> 1))  # 0b 0110"
   ]
  },
  {
   "cell_type": "markdown",
   "id": "97b41b7d",
   "metadata": {},
   "source": [
    "### Chapter 4.5"
   ]
  },
  {
   "cell_type": "code",
   "execution_count": null,
   "id": "1cdb3e4d",
   "metadata": {},
   "outputs": [
    {
     "name": "stdout",
     "output_type": "stream",
     "text": [
      "100.0\n"
     ]
    }
   ],
   "source": [
    "result = 100 / 10 * 10  # (100 / 10) * 10 として評価され、結果は 100.0\n",
    "print(result)   # 100.0"
   ]
  },
  {
   "cell_type": "code",
   "execution_count": 10,
   "id": "abaf1deb",
   "metadata": {},
   "outputs": [
    {
     "name": "stdout",
     "output_type": "stream",
     "text": [
      "512\n"
     ]
    }
   ],
   "source": [
    "result = 2 ** 3 ** 2    # 2 ** (3 ** 2) として評価され、結果は 512\n",
    "print(result)   # 512"
   ]
  },
  {
   "cell_type": "code",
   "execution_count": 11,
   "id": "6eebeb2c",
   "metadata": {},
   "outputs": [
    {
     "name": "stdout",
     "output_type": "stream",
     "text": [
      "100.0\n",
      "1.0\n"
     ]
    }
   ],
   "source": [
    "result = (100 / 10) * 10    # 100.0\n",
    "print(result)   # 100.0\n",
    "\n",
    "result = 100 / (10 * 10)    #   1.0\n",
    "print(result)   #   1.0"
   ]
  },
  {
   "cell_type": "markdown",
   "id": "3b030e15",
   "metadata": {},
   "source": [
    "### Chapter 4.6"
   ]
  },
  {
   "cell_type": "code",
   "execution_count": 12,
   "id": "3eeee089",
   "metadata": {},
   "outputs": [
    {
     "name": "stdout",
     "output_type": "stream",
     "text": [
      "15\n",
      "7.0\n",
      "hello world\n",
      "[1, 2, 3, 1, 2, 3]\n",
      "True\n",
      "True\n",
      "True\n",
      "False\n",
      "False\n",
      "True\n",
      "True\n",
      "True\n"
     ]
    }
   ],
   "source": [
    "# 各データ型に対する演算子の使用例\n",
    "a = 10          # int\n",
    "b =  3.5        # float\n",
    "c = True        # bool\n",
    "d = \"hello\"     # string\n",
    "e = [1, 2, 3]   # list\n",
    "\n",
    "# 算術演算子\n",
    "print(a + 5)        # 整数の加算 15\n",
    "print(b * 2)        # 浮動小数点の乗算 7.0\n",
    "print(d + \" world\") # 文字列の連結  hello world\n",
    "print(e * 2)        # リストの繰り返し [1, 2, 3, 1, 2, 3]\n",
    "\n",
    "# 比較演算子\n",
    "print(a >  5)       # True\n",
    "print(d == \"hello\") # True\n",
    "print(c == True)    # True\n",
    "\n",
    "# 論理演算子\n",
    "print(c and False)  # False\n",
    "print(not c)        # False\n",
    "\n",
    "# メンバーシップ演算子\n",
    "print(  2 in e) # True\n",
    "print(\"o\" in d) # True\n",
    "\n",
    "# 同一性演算子\n",
    "f = e\n",
    "print(f is e)   # True"
   ]
  }
 ],
 "metadata": {
  "kernelspec": {
   "display_name": ".venv",
   "language": "python",
   "name": "python3"
  },
  "language_info": {
   "codemirror_mode": {
    "name": "ipython",
    "version": 3
   },
   "file_extension": ".py",
   "mimetype": "text/x-python",
   "name": "python",
   "nbconvert_exporter": "python",
   "pygments_lexer": "ipython3",
   "version": "3.12.10"
  }
 },
 "nbformat": 4,
 "nbformat_minor": 5
}
