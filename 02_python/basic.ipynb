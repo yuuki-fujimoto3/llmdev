{
 "cells": [
  {
   "cell_type": "code",
   "execution_count": null,
   "id": "d0cfde2e",
   "metadata": {},
   "outputs": [
    {
     "name": "stdout",
     "output_type": "stream",
     "text": [
      "３科目の平均点は  83.33333333333333  点です\n"
     ]
    }
   ],
   "source": [
    "# 各科目の点数を変数として定義\n",
    "japanese = 85   # 国語\n",
    "math = 90       # 数学\n",
    "english = 75    # 英語\n",
    "\n",
    "# 平均点を計算\n",
    "average = (japanese + math + english) / 3\n",
    "\n",
    "# 結果を表示\n",
    "print(\"３科目の平均点は\", average, \"点です\" )"
   ]
  }
 ],
 "metadata": {
  "kernelspec": {
   "display_name": ".venv",
   "language": "python",
   "name": "python3"
  },
  "language_info": {
   "codemirror_mode": {
    "name": "ipython",
    "version": 3
   },
   "file_extension": ".py",
   "mimetype": "text/x-python",
   "name": "python",
   "nbconvert_exporter": "python",
   "pygments_lexer": "ipython3",
   "version": "3.12.10"
  }
 },
 "nbformat": 4,
 "nbformat_minor": 5
}
