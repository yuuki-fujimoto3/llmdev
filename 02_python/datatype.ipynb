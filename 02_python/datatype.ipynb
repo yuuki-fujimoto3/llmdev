{
 "cells": [
  {
   "cell_type": "markdown",
   "id": "555dd75a",
   "metadata": {},
   "source": [
    "# Lesson 2\n",
    "<span style=\"font-size:200%;\">Pythonの基礎</span>"
   ]
  },
  {
   "cell_type": "markdown",
   "id": "ac454e9a",
   "metadata": {},
   "source": [
    "## Chapter 3\n",
    "<span style=\"font-size:175%;\">基本的なデータ型</span>\n",
    "- 数値 型（`int`：整数｜`float`：小数｜`complex`：複素数）\n",
    "- シーケンス 型 ＞ 文字列 型（`str`）\n",
    "- ブール 型（`bool`：真／偽）\n",
    "- NONE 型（`NONETYPE`：何もないことを表す）"
   ]
  },
  {
   "cell_type": "markdown",
   "id": "1dc12866",
   "metadata": {},
   "source": [
    "### Chapter 3.1\n",
    "<span style=\"font-size:150%;\">数値 型</span>\n",
    "- 整数 型 (`int`)\n",
    "- 浮動小数点 型（`float`）\n",
    "- 複素数 型（`complex`）"
   ]
  },
  {
   "cell_type": "markdown",
   "id": "25947113",
   "metadata": {},
   "source": [
    "#### <u>整数 型（`int`）</u>\n",
    "- 四則演算（`+`，`-`，`*`，`/`）\n",
    "- 累乗（`**`）\n",
    "- 整数除算（`//`）"
   ]
  },
  {
   "cell_type": "code",
   "execution_count": 16,
   "id": "f6cc4ec6",
   "metadata": {},
   "outputs": [
    {
     "name": "stdout",
     "output_type": "stream",
     "text": [
      "a: 10\n",
      "b: -5\n",
      "c: 0\n",
      "合計: 5\n",
      "積: -50\n"
     ]
    }
   ],
   "source": [
    "# 整数の代入\n",
    "a = 10\n",
    "b = -5\n",
    "c = 0\n",
    "\n",
    "# 整数同士の計算\n",
    "sum_result     = a + b  # 10 + (-5) =   5\n",
    "product_result = a * b  # 10 * (-5) = -50\n",
    "\n",
    "print(\"a:\"   , a)\n",
    "print(\"b:\"   , b)\n",
    "print(\"c:\"   , c)\n",
    "print(\"合計:\",     sum_result)\n",
    "print(\"積:\"  , product_result)"
   ]
  },
  {
   "cell_type": "code",
   "execution_count": 17,
   "id": "3daa8fc0",
   "metadata": {},
   "outputs": [
    {
     "name": "stdout",
     "output_type": "stream",
     "text": [
      "除算結果: 3.3333333333333335\n",
      "整数除算結果: 3\n"
     ]
    }
   ],
   "source": [
    "# 除算の例\n",
    "division_result         = a /  3    # 結果は 3.3333333333333335 (float 型)\n",
    "integer_division_result = a // 3    # 結果は 3                  (  int 型)\n",
    "\n",
    "print(\"除算結果:\"    ,         division_result)\n",
    "print(\"整数除算結果:\", integer_division_result)"
   ]
  },
  {
   "cell_type": "markdown",
   "id": "9b9560ce",
   "metadata": {},
   "source": [
    "#### <u>浮動小数点 型（`float`）</u>\n",
    "- 省略記載（例｜`1.`＝1.0｜`.5`＝0.5）\n",
    "- 近似値による誤差"
   ]
  },
  {
   "cell_type": "code",
   "execution_count": 18,
   "id": "e8bc2765",
   "metadata": {},
   "outputs": [
    {
     "name": "stdout",
     "output_type": "stream",
     "text": [
      "x: 3.14\n",
      "y: -0.5\n",
      "z: 2.0\n",
      "合計: 2.64\n",
      "積: -1.57\n"
     ]
    }
   ],
   "source": [
    "# 浮動小数点数の代入\n",
    "x =  3.14\n",
    "y = -0.5\n",
    "z =  2.0    # 小数点を付けると float 型になる\n",
    "\n",
    "# 浮動小数点数の計算\n",
    "sum_result     = x + y  # 3.14 + (-0.5) =  2.64\n",
    "product_result = x * y  # 3.14 * (-0.5) = -1.57\n",
    "\n",
    "print(\"x:\"   , x)\n",
    "print(\"y:\"   , y)\n",
    "print(\"z:\"   , z)\n",
    "print(\"合計:\",     sum_result)\n",
    "print(\"積:\"  , product_result)"
   ]
  },
  {
   "cell_type": "code",
   "execution_count": 19,
   "id": "d7a93ccc",
   "metadata": {},
   "outputs": [
    {
     "name": "stdout",
     "output_type": "stream",
     "text": [
      "0.1 + 0.2 = 0.30000000000000004\n"
     ]
    }
   ],
   "source": [
    "# 浮動小数点数の誤差の例\n",
    "result = 0.1 + 0.2\n",
    "print(\"0.1 + 0.2 =\", result)"
   ]
  },
  {
   "cell_type": "markdown",
   "id": "f8e13971",
   "metadata": {},
   "source": [
    "#### <u>数値型間の変換</u>\n",
    "- 整数　　　　 に変換：`int()`\n",
    "- 浮動小数点数 に変換：`float()`\n",
    "- データ型　　 を確認：`type()`"
   ]
  },
  {
   "cell_type": "code",
   "execution_count": 20,
   "id": "32416b46",
   "metadata": {},
   "outputs": [
    {
     "name": "stdout",
     "output_type": "stream",
     "text": [
      "a の型: <class 'int'>\n",
      "b の型: <class 'float'>\n"
     ]
    }
   ],
   "source": [
    "a = 10          #   int 型\n",
    "b = float(a)    # float 型に変換\n",
    "\n",
    "print(\"a の型:\", type(a))\n",
    "print(\"b の型:\", type(b))"
   ]
  },
  {
   "cell_type": "code",
   "execution_count": 21,
   "id": "2555d4ba",
   "metadata": {},
   "outputs": [
    {
     "name": "stdout",
     "output_type": "stream",
     "text": [
      "x の型: <class 'float'>\n",
      "y の型: <class 'int'>\n",
      "y の値: 3\n"
     ]
    }
   ],
   "source": [
    "x = 3.99    # float 型\n",
    "y = int(x)  #   int 型に変換（小数部分は切り捨て）\n",
    "\n",
    "print(\"x の型:\", type(x))\n",
    "print(\"y の型:\", type(y))\n",
    "print(\"y の値:\", y)"
   ]
  },
  {
   "cell_type": "markdown",
   "id": "310477a2",
   "metadata": {},
   "source": [
    "#### <u>参考：指数表記</u>\n",
    "- 指数表記（`e`/`E`：例｜`9.12e3`＝9.12 * 10^3｜`9.12e-3`＝9.12 * 10^-3）"
   ]
  },
  {
   "cell_type": "code",
   "execution_count": 22,
   "id": "2401c1d7",
   "metadata": {},
   "outputs": [
    {
     "name": "stdout",
     "output_type": "stream",
     "text": [
      "12300.0\n"
     ]
    }
   ],
   "source": [
    "num = 1.23e4\n",
    "print(num)  # 出力: 12300.0"
   ]
  },
  {
   "cell_type": "code",
   "execution_count": 23,
   "id": "2b9292fc",
   "metadata": {},
   "outputs": [
    {
     "name": "stdout",
     "output_type": "stream",
     "text": [
      "0.000123\n"
     ]
    }
   ],
   "source": [
    "num = 1.23e-4\n",
    "print(num)  # 出力: 0.000123"
   ]
  },
  {
   "cell_type": "markdown",
   "id": "93723d57",
   "metadata": {},
   "source": [
    "#### <u>参考：複素数型（`complex`）</u>\n",
    "- 虚数単位（`j`：例｜`1 + 2j`）"
   ]
  },
  {
   "cell_type": "code",
   "execution_count": 24,
   "id": "a8e75532",
   "metadata": {},
   "outputs": [
    {
     "name": "stdout",
     "output_type": "stream",
     "text": [
      "c1: (2+3j)\n",
      "c2: (-1+0.5j)\n",
      "合計: (1+3.5j)\n",
      "積: (-3.5-2j)\n"
     ]
    }
   ],
   "source": [
    "# 複素数の代入\n",
    "c1 =  2 +   3j\n",
    "c2 = -1 + 0.5j\n",
    "\n",
    "# 複素数の計算\n",
    "sum_result     = c1 + c2    # (2 + (+-)) + (3j + 0.5j) = 1 + 3.5j\n",
    "product_result = c1 * c2    # 複素数の掛け算\n",
    "\n",
    "print(\"c1:\"  , c1)\n",
    "print(\"c2:\"  , c2)\n",
    "print(\"合計:\",     sum_result)\n",
    "print(\"積:\"  , product_result)"
   ]
  },
  {
   "cell_type": "markdown",
   "id": "759649b5",
   "metadata": {},
   "source": [
    "### Chapter 3.2\n",
    "<span style=\"font-size:150%;\">文字列 型</span>"
   ]
  },
  {
   "cell_type": "markdown",
   "id": "cd1ac277",
   "metadata": {},
   "source": [
    "#### <u>文字列の表現</u>\n",
    "- クォートで囲んで表現（`\"`／`'`）"
   ]
  },
  {
   "cell_type": "code",
   "execution_count": 3,
   "id": "c82d8267",
   "metadata": {},
   "outputs": [
    {
     "name": "stdout",
     "output_type": "stream",
     "text": [
      "「'」はシングルクォートです。\n",
      "「\"」はダブルクォートです。\n"
     ]
    }
   ],
   "source": [
    "text1 = \"「'」はシングルクォートです。\"\n",
    "text2 = '「\"」はダブルクォートです。'\n",
    "print(text1)\n",
    "print(text2)"
   ]
  },
  {
   "cell_type": "markdown",
   "id": "ea7d8f44",
   "metadata": {},
   "source": [
    "#### <u>文字列の基本的な操作</u>\n",
    "- 文字列の結合　　　　　　　　：`+`演算子\n",
    "- 文字列の繰り返し　　　　　　：`*`演算子\n",
    "- 文字列の長さ（文字数）を取得：`len()`関数"
   ]
  },
  {
   "cell_type": "code",
   "execution_count": 5,
   "id": "3ed86b98",
   "metadata": {},
   "outputs": [
    {
     "name": "stdout",
     "output_type": "stream",
     "text": [
      "Hello World\n",
      "Hi! Hi! Hi! \n",
      "文字列の長さ： 13\n"
     ]
    }
   ],
   "source": [
    "# 文字列の結合\n",
    "text1 = \"Hello\"\n",
    "text2 = \"World\"\n",
    "result = text1 + \" \" + text2\n",
    "print(result)   # 'Hello World'\n",
    "\n",
    "# 文字列の繰り返し\n",
    "text = \"Hi! \"\n",
    "print(text * 3) # 'Hi! Hi! Hi! '\n",
    "\n",
    "# 文字列の長さを取得\n",
    "length = len(\"Hello, World!\")   # 13\n",
    "print(\"文字列の長さ：\", length)"
   ]
  },
  {
   "cell_type": "markdown",
   "id": "14afcd91",
   "metadata": {},
   "source": [
    "#### <u>メソッドを使った操作</u>\n",
    "- 大文字／小文字に変換　　　：`upper()`／`lower()`\n",
    "- 部分文字列を置換　　　　　：`replace()`\n",
    "- 前後の空白／指定文字を削除：`strip()`\n",
    "- 部分文字列の初回位置を検索：`fing()`"
   ]
  },
  {
   "cell_type": "code",
   "execution_count": 6,
   "id": "0f349c88",
   "metadata": {},
   "outputs": [
    {
     "name": "stdout",
     "output_type": "stream",
     "text": [
      "PYTHON\n",
      "python\n",
      "Hello, Python\n",
      "Hello, World!\n",
      "7\n"
     ]
    }
   ],
   "source": [
    "# 大文字や小文字に変換\n",
    "text = \"Python\"\n",
    "print(text.upper()) # 'PYTHON'\n",
    "print(text.lower()) # 'python'\n",
    "\n",
    "# 部分文字列を置換\n",
    "text = \"Hello, World\"\n",
    "print(text.replace(\"World\", \"Python\"))  # 'Hello, Python'\n",
    "\n",
    "# 前後の空白や指定した文字を削除\n",
    "text = \"  Hello, World!  \"\n",
    "print(text.strip()) # 'Hello, World!'\n",
    "\n",
    "# 部分文字列の最初の位置を検索\n",
    "text = \"Hello, World\"\n",
    "print(text.find(\"World\"))   # 7"
   ]
  },
  {
   "cell_type": "markdown",
   "id": "e3f52555",
   "metadata": {},
   "source": [
    "#### <u>エスケープシーケンス</u>\n",
    "- `\\'`：シングルクォート\n",
    "- `\\\"`：ダブルクォート\n",
    "- `\\n`：改行\n",
    "- `\\t`：タブ"
   ]
  },
  {
   "cell_type": "code",
   "execution_count": 26,
   "id": "ae3595bc",
   "metadata": {},
   "outputs": [
    {
     "name": "stdout",
     "output_type": "stream",
     "text": [
      "エスケープを使うと、「'」シングルクォートと「\"」ダブルクォートを混在させたり、\n",
      "改行や\tタブを入れたりと多彩な表現が可能です\n"
     ]
    }
   ],
   "source": [
    "print(\"エスケープを使うと、「\\'」シングルクォートと「\\\"」ダブルクォートを混在させたり、\\n改行や\\tタブを入れたりと多彩な表現が可能です\")"
   ]
  },
  {
   "cell_type": "markdown",
   "id": "cac28ef0",
   "metadata": {},
   "source": [
    "#### <u>ヒアドキュメント</u>\n",
    "- 連続した３つのクォートで囲んで、複数行の文字列を記載（`\"\"\"`／`'''`）"
   ]
  },
  {
   "cell_type": "code",
   "execution_count": 28,
   "id": "d49bf115",
   "metadata": {},
   "outputs": [
    {
     "name": "stdout",
     "output_type": "stream",
     "text": [
      "A様\n",
      "いつもお世話になっております。Bです。\n",
      "先日はお越しくださりありがとうございました。\n",
      "またのご来店をお待ちしております。\n"
     ]
    }
   ],
   "source": [
    "message = '''A様\n",
    "いつもお世話になっております。Bです。\n",
    "先日はお越しくださりありがとうございました。\n",
    "またのご来店をお待ちしております。'''\n",
    "\n",
    "print(message)"
   ]
  },
  {
   "cell_type": "markdown",
   "id": "4229b60b",
   "metadata": {},
   "source": [
    "#### <u>数値型と文字列との変換</u>\n",
    "- 数値から文字列 に変換：`str()`\n",
    "- 文字列から数値 に変換：`int()`"
   ]
  },
  {
   "cell_type": "code",
   "execution_count": 29,
   "id": "f4b01d55",
   "metadata": {},
   "outputs": [
    {
     "ename": "TypeError",
     "evalue": "can't multiply sequence by non-int of type 'float'",
     "output_type": "error",
     "traceback": [
      "\u001b[31m---------------------------------------------------------------------------\u001b[39m",
      "\u001b[31mTypeError\u001b[39m                                 Traceback (most recent call last)",
      "\u001b[36mCell\u001b[39m\u001b[36m \u001b[39m\u001b[32mIn[29]\u001b[39m\u001b[32m, line 2\u001b[39m\n\u001b[32m      1\u001b[39m price = \u001b[33m\"\u001b[39m\u001b[33m100\u001b[39m\u001b[33m\"\u001b[39m\n\u001b[32m----> \u001b[39m\u001b[32m2\u001b[39m \u001b[38;5;28mprint\u001b[39m(\u001b[33m\"\u001b[39m\u001b[33m税込み価格は\u001b[39m\u001b[33m\"\u001b[39m, \u001b[43mprice\u001b[49m\u001b[43m \u001b[49m\u001b[43m*\u001b[49m\u001b[43m \u001b[49m\u001b[32;43m1.1\u001b[39;49m, \u001b[33m\"\u001b[39m\u001b[33m円です\u001b[39m\u001b[33m\"\u001b[39m)\n",
      "\u001b[31mTypeError\u001b[39m: can't multiply sequence by non-int of type 'float'"
     ]
    }
   ],
   "source": [
    "price = \"100\"\n",
    "print(\"税込み価格は\", price * 1.1, \"円です\")"
   ]
  },
  {
   "cell_type": "code",
   "execution_count": 30,
   "id": "4afe0b80",
   "metadata": {},
   "outputs": [
    {
     "name": "stdout",
     "output_type": "stream",
     "text": [
      "num_str の型: <class 'str'>\n",
      "num_str の値: 100\n",
      "int_value の型： <class 'int'>\n",
      "int_value の値： 250\n"
     ]
    }
   ],
   "source": [
    "num     = 100       # int 型\n",
    "num_str = str(num)  # 文字列に変換\n",
    "\n",
    "print(\"num_str の型:\", type(num_str))\n",
    "print(\"num_str の値:\",      num_str )\n",
    "\n",
    "# 文字列から数値へ\n",
    "str_value = \"250\"\n",
    "int_value = int(str_value)\n",
    "\n",
    "print(\"int_value の型：\", type(int_value))\n",
    "print(\"int_value の値：\",      int_value )"
   ]
  },
  {
   "cell_type": "markdown",
   "id": "73b18999",
   "metadata": {},
   "source": [
    "#### <u>`input()`関数</u>\n",
    "- ユーザーからの入力を文字列として受け取る"
   ]
  },
  {
   "cell_type": "code",
   "execution_count": 34,
   "id": "8619ea27",
   "metadata": {},
   "outputs": [
    {
     "name": "stdout",
     "output_type": "stream",
     "text": [
      "こんにちは、太郎さん!\n"
     ]
    }
   ],
   "source": [
    "name = input(\"名前を入力してください: \")\n",
    "print(\"こんにちは、\" + name + \"さん!\")"
   ]
  },
  {
   "cell_type": "code",
   "execution_count": 35,
   "id": "ef9ad874",
   "metadata": {},
   "outputs": [
    {
     "name": "stdout",
     "output_type": "stream",
     "text": [
      "入力した数値に10を足すと 15 です\n"
     ]
    }
   ],
   "source": [
    "num = int(input(\"数値を入力してください: \"))\n",
    "result = num + 10\n",
    "print(\"入力した数値に10を足すと\", result, \"です\")"
   ]
  },
  {
   "cell_type": "markdown",
   "id": "d8b8d996",
   "metadata": {},
   "source": [
    "### Chapter 3.3\n",
    "<span style=\"font-size:150%;\">ブール 型</span>\n",
    "\n",
    "ブール 型（`bool`）は真（`True`）と偽（`False`）の２値しか持たない\n",
    "\n",
    "下記の結果などはブール型で返される\n",
    "- 比較演算（`\"\"`，`!=`，`<`，`>`）\n",
    "- 論理演算（`and`，or`，`not`）\n",
    "- 条件分岐（`if`文）"
   ]
  },
  {
   "cell_type": "code",
   "execution_count": 45,
   "id": "bbdd0794",
   "metadata": {},
   "outputs": [
    {
     "name": "stdout",
     "output_type": "stream",
     "text": [
      "a < b: True\n",
      "a == b: False\n"
     ]
    }
   ],
   "source": [
    "# 比較演算\n",
    "a =  5\n",
    "b = 10\n",
    "\n",
    "# aがbより小さいかどうかを比較\n",
    "result = a < b  # これはTrue\n",
    "\n",
    "# aとbが等しいかどうかを比較\n",
    "equal_result = a == b   # これはFalse\n",
    "\n",
    "print(\"a < b:\", result)\n",
    "print(\"a == b:\", equal_result)"
   ]
  },
  {
   "cell_type": "markdown",
   "id": "fbbae291",
   "metadata": {},
   "source": [
    "#### <u>ブール値に変換される値</u>\n",
    "他のデータ型も暗黙的に`bool`値に変換される。下記の値は`False`、下記以外は`True`として扱われる。\n",
    "- `0`（整数値ゼロ）\n",
    "- `0.0`（浮動小数点数ゼロ）\n",
    "- 空の値（`\"\"`，`[]`，`{}`，`None`）\n",
    "- `False`（ブール値の「偽」）"
   ]
  },
  {
   "cell_type": "code",
   "execution_count": 46,
   "id": "5e5669d0",
   "metadata": {},
   "outputs": [
    {
     "name": "stdout",
     "output_type": "stream",
     "text": [
      "False\n",
      "True\n",
      "False\n",
      "True\n"
     ]
    }
   ],
   "source": [
    "# ブール値に変換される値の例\n",
    "print(bool(0))          # False\n",
    "print(bool(1))          # True\n",
    "print(bool(\"\"))         # False（空の文字列はFalse）\n",
    "print(bool(\"Hello\"))    # True（非空の文字列はTrue）"
   ]
  },
  {
   "cell_type": "markdown",
   "id": "fd820f28",
   "metadata": {},
   "source": [
    "#### <u>数値とブール値の関係</u>\n",
    "- `True`は数値の`1`に相当\n",
    "- `False`は数値の`0`に相当"
   ]
  },
  {
   "cell_type": "code",
   "execution_count": 47,
   "id": "888696db",
   "metadata": {},
   "outputs": [
    {
     "name": "stdout",
     "output_type": "stream",
     "text": [
      "2\n",
      "10\n",
      "5\n"
     ]
    }
   ],
   "source": [
    "print(True  + True) # 1 +  1 =  2\n",
    "print(True  * 10  ) # 1 * 10 = 10\n",
    "print(False +  5  ) # 0 +  5 =  5"
   ]
  },
  {
   "cell_type": "markdown",
   "id": "5256d164",
   "metadata": {},
   "source": [
    "### Chapter 3.4\n",
    "<span style=\"font-size:150%;\">文字列フォーマット（f文字列）</span>\n",
    "\n",
    "文字列の中に変数やほかの値を埋め込む方法\n",
    "- f文字列\n",
    "- `format()`メソッド"
   ]
  },
  {
   "cell_type": "markdown",
   "id": "7e821996",
   "metadata": {},
   "source": [
    "#### <u>f文字列の基本</u>\n",
    "- 文字列の前に`f`を付ける\n",
    "- 文字列の中に`{}`を使用して変数や値を埋め込む"
   ]
  },
  {
   "cell_type": "code",
   "execution_count": 48,
   "id": "c86a8c6d",
   "metadata": {},
   "outputs": [
    {
     "name": "stdout",
     "output_type": "stream",
     "text": [
      "私の名前はジョンです。私は30歳です。\n"
     ]
    }
   ],
   "source": [
    "name = \"ジョン\"\n",
    "age  = 30\n",
    "print(f\"私の名前は{name}です。私は{age}歳です。\")"
   ]
  },
  {
   "cell_type": "code",
   "execution_count": 49,
   "id": "117c9a80",
   "metadata": {},
   "outputs": [
    {
     "name": "stdout",
     "output_type": "stream",
     "text": [
      "5足す10は15です。\n"
     ]
    }
   ],
   "source": [
    "a =  5\n",
    "b = 10\n",
    "print(f\"{a}足す{b}は{a + b}です。\")"
   ]
  },
  {
   "cell_type": "markdown",
   "id": "70fa963c",
   "metadata": {},
   "source": [
    "#### <u>書式指定文字列</u>\n",
    "- `{}`の中で`:`の後に記述する\n",
    "- 小数点以下の桁数（例：`:.2f`→2桁に指定）\n",
    "- カンマ区切り　　（例：`:,`→下位から3桁毎にカンマ）\n",
    "- 文字列の出力幅　（例：`:10`→10文字幅になるよう末尾に空白を付加）\n",
    "- ゼロ埋め　　　　（例：`:05`→5桁になるよう、先頭に0を付加）\n",
    "- パーセント表示　（例：`:.1%`→小数点第1位までの％表記）\n",
    "- 揃え　　　　　　（例：`:<10`｜`:>10`｜`:^10`→左｜右｜中央揃えで10文字幅になるよう空白を付加）\n",
    "- 日時フォーマット（例：`:%Y-%m-%d %H:%M:%S'→YYYY-mm-dd HH:MM:SS）"
   ]
  },
  {
   "cell_type": "code",
   "execution_count": 51,
   "id": "0e9e0821",
   "metadata": {},
   "outputs": [
    {
     "name": "stdout",
     "output_type": "stream",
     "text": [
      "小数点以下の桁数: 3.14\n",
      "カンマ区切り: 1,234,567,890\n",
      "文字列の幅「Alice     」\n",
      "ゼロ埋め: 00042\n",
      "パーセント表示: 85.6%\n",
      "左揃え　「Alice     」\n",
      "右揃え　「     Alice」\n",
      "中央揃え「  Alice   」\n",
      "現在日時: 2025-10-10 15:32:16\n"
     ]
    }
   ],
   "source": [
    "# 小数点以下の桁数\n",
    "pi = 3.14159\n",
    "print(f\"小数点以下の桁数: {pi:.2f}\")    # 2桁に指定\n",
    "\n",
    "# カンマ区切り\n",
    "large_number = 1234567890\n",
    "print(f\"カンマ区切り: {large_number:,}\")\n",
    "\n",
    "# 文字列の出力幅\n",
    "name = \"Alice\"\n",
    "print(f\"文字列の幅「{name:10}」\")   # 10文字分の幅で表示\n",
    "\n",
    "# ゼロ埋め\n",
    "num = 42\n",
    "print(f\"ゼロ埋め: {num:05}\")    # 5桁で表示し、足りない部分はゼロで埋める\n",
    "\n",
    "# パーセント表示\n",
    "accuracy = 0.856\n",
    "print(f\"パーセント表示: {accuracy:.1%}\")\n",
    "\n",
    "# 揃え\n",
    "name = \"Alice\"\n",
    "print(f\"左揃え　「{name:<10}」\")    # 　左揃えで10文字幅\n",
    "print(f\"右揃え　「{name:>10}」\")    # 　右揃えで10文字幅\n",
    "print(f\"中央揃え「{name:^10}」\")    # 中央揃えで10文字幅\n",
    "\n",
    "# 日時のフォーマット\n",
    "from datetime import datetime\n",
    "now = datetime.now()\n",
    "print(f\"現在日時: {now:%Y-%m-%d %H:%M:%S}\")"
   ]
  },
  {
   "cell_type": "markdown",
   "id": "b27b6f2a",
   "metadata": {},
   "source": [
    "### Chapter 3.5\n",
    "<span style=\"font-size:150%;\">参考：None型</span>\n",
    "\n",
    "Pythonで「値がない」ことを表す特殊なデータ型\n",
    "- 使用用途１：使用初期化されていない変数を表す\n",
    "- 使用用途２：関数が明示的に値を返さない場合の返り値\n",
    "- 慣例的に、`None`のチェックには`==`ではなく`is`を使う"
   ]
  },
  {
   "cell_type": "markdown",
   "id": "2c5108e9",
   "metadata": {},
   "source": [
    "#### <u>例：初期化に使う</u>\n",
    "変数を初期化する際に、明示的に「まだ値が設定されていない」ことを示すために`None`を使う"
   ]
  },
  {
   "cell_type": "code",
   "execution_count": null,
   "id": "1e56b0f2",
   "metadata": {},
   "outputs": [
    {
     "name": "stdout",
     "output_type": "stream",
     "text": [
      "まだ値が設定されていません\n"
     ]
    }
   ],
   "source": [
    "value = None    # 変数を初期化\n",
    "if value is None:\n",
    "    print(\"まだ値が設定されていません\")"
   ]
  },
  {
   "cell_type": "markdown",
   "id": "75805aeb",
   "metadata": {},
   "source": [
    "#### <u>関数の返り値がない場合</u>\n",
    "関数が特に値を返さないとき、自動的に`None`が返される"
   ]
  },
  {
   "cell_type": "code",
   "execution_count": 53,
   "id": "63f44763",
   "metadata": {},
   "outputs": [
    {
     "name": "stdout",
     "output_type": "stream",
     "text": [
      "Hello!\n",
      "None\n"
     ]
    }
   ],
   "source": [
    "def greet():\n",
    "    print(\"Hello!\")\n",
    "\n",
    "result = greet()    # 関数がNoneを返す\n",
    "print(result)       # Noneと出力される"
   ]
  },
  {
   "cell_type": "markdown",
   "id": "e47bba56",
   "metadata": {},
   "source": [
    "#### <u>例：比較のための`is`キーワード</u>\n",
    "慣例的に、`None`のチェックには`==`ではなく`is`を使う"
   ]
  },
  {
   "cell_type": "code",
   "execution_count": 54,
   "id": "7509111f",
   "metadata": {},
   "outputs": [
    {
     "name": "stdout",
     "output_type": "stream",
     "text": [
      "データがありません\n"
     ]
    }
   ],
   "source": [
    "data = None\n",
    "if data is None:\n",
    "    print(\"データがありません\")"
   ]
  }
 ],
 "metadata": {
  "kernelspec": {
   "display_name": ".venv",
   "language": "python",
   "name": "python3"
  },
  "language_info": {
   "codemirror_mode": {
    "name": "ipython",
    "version": 3
   },
   "file_extension": ".py",
   "mimetype": "text/x-python",
   "name": "python",
   "nbconvert_exporter": "python",
   "pygments_lexer": "ipython3",
   "version": "3.12.10"
  }
 },
 "nbformat": 4,
 "nbformat_minor": 5
}
