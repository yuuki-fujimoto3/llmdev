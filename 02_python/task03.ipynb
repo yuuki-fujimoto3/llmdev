{
 "cells": [
  {
   "cell_type": "markdown",
   "id": "be1b3b15",
   "metadata": {},
   "source": [
    "# 仕様（原文そのまま引用）\n",
    "\n",
    "入力された元金と金利をもとに、10年後の金額を複利で予測するプログラムを作成しましょう。次の条件に従って計算を行ってください。\n",
    "\n",
    "- ユーザーが元金（初期投資額）を入力します。入力には `input()` 関数を使用してください。\n",
    "- ユーザーが年利（パーセンテージ）を入力します。入力には `input()` 関数を使用してください。\n",
    "- 繰り返し構文を使用して、10年間の金額を計算します。\n",
    "\n",
    "**複利** とは、利子を次期の元金に組み入れる方式です。元金だけでなく利子にも次期の利子が付く方式で、預金や投資などに広く採用されています。例えば、元金が1000円、年利が5%の場合の金額は以下のように計算されます。課題では、この計算を繰り返し構文を使用して行います。\n",
    "\n",
    "- 1年後：`1000 * (1 + (5 / 100)) = 1050.0`\n",
    "- 2年後：`1050.0 * (1 + (5 / 100)) = 1102.5`\n",
    "- 3年後：`1102.5 * (1 + (5 / 100)) = 1157.625` …"
   ]
  },
  {
   "cell_type": "markdown",
   "id": "8c3bad5b",
   "metadata": {},
   "source": [
    "## 実行結果の例\n",
    "\n",
    "元金が1000円、年利が5%の場合は、以下のような出力となります。\n",
    "\n",
    ">元金を入力してください: 1000  \n",
    "年利を入力してください: 5  \n",
    "10年後の金額: 1628.89"
   ]
  },
  {
   "cell_type": "markdown",
   "id": "eb76ea89",
   "metadata": {},
   "source": [
    "# プログラム"
   ]
  },
  {
   "cell_type": "code",
   "execution_count": 2,
   "id": "105fceda",
   "metadata": {},
   "outputs": [
    {
     "name": "stdout",
     "output_type": "stream",
     "text": [
      "10年後の金額: 817.07\n"
     ]
    }
   ],
   "source": [
    "years           = 10    # 複利計算する年数\n",
    "input_str       = None  # 入力文字列\n",
    "principal       = None  # 元金\n",
    "annual_interest = None  # 年利（％）\n",
    "amount          = None  # 金額\n",
    "Magnification   = None  # 倍率（計算\n",
    "\n",
    "input_str = input(\"元金を入力してください: \")\n",
    "principal = int(input_str)\n",
    "\n",
    "input_str = input(\"年利を入力してください: \")\n",
    "annual_interest = int(input_str)\n",
    "\n",
    "amount = principal\n",
    "Magnification = 1 + annual_interest / 100\n",
    "for i in range(years):\n",
    "    amount *= Magnification\n",
    "\n",
    "print(f\"{years}年後の金額: {amount:.2f}\")"
   ]
  },
  {
   "cell_type": "markdown",
   "id": "ed3a1ac9",
   "metadata": {},
   "source": [
    "## 実行結果"
   ]
  },
  {
   "cell_type": "markdown",
   "id": "39d45b0e",
   "metadata": {},
   "source": [
    ">元金を入力してください: 1000  \n",
    "年利を入力してください: 5  \n",
    "10年後の金額: 1628.89"
   ]
  },
  {
   "cell_type": "markdown",
   "id": "03b72d83",
   "metadata": {},
   "source": [
    ">元金を入力してください: 1000  \n",
    "年利を入力してください: -2  \n",
    "10年後の金額: 817.07"
   ]
  }
 ],
 "metadata": {
  "kernelspec": {
   "display_name": ".venv",
   "language": "python",
   "name": "python3"
  },
  "language_info": {
   "codemirror_mode": {
    "name": "ipython",
    "version": 3
   },
   "file_extension": ".py",
   "mimetype": "text/x-python",
   "name": "python",
   "nbconvert_exporter": "python",
   "pygments_lexer": "ipython3",
   "version": "3.12.10"
  }
 },
 "nbformat": 4,
 "nbformat_minor": 5
}
