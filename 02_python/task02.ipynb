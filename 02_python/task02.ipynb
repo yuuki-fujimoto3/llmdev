{
 "cells": [
  {
   "cell_type": "markdown",
   "id": "d64d948b",
   "metadata": {},
   "source": [
    "# 仕様（原文そのまま引用）\n",
    "\n",
    "入力された税抜価格をもとに、消費税込の価格と送料を合計した「送料込価格」を計算し、結果を表示するソースコードを作成してください。\n",
    "\n",
    "- 税込価格が2000円以上の場合は送料無料、2000円未満の場合は350円とします。\n",
    "- 消費税率は10%です。\n",
    "- 税抜価格の入力には `input()` 関数を使用してください。\n",
    "- 結果の表示にはf文字列を使用してください。"
   ]
  },
  {
   "cell_type": "markdown",
   "id": "2bb43f7e",
   "metadata": {},
   "source": [
    "## 実行結果の例\n",
    "税抜価格が2000円の場合\n",
    ">送料は無料です  \n",
    "送料込税込価格は2200円です\n",
    "\n",
    "税抜価格が1500円の場合\n",
    ">送料は350円です  \n",
    "送料込税込価格は2000円です"
   ]
  },
  {
   "cell_type": "markdown",
   "id": "d6864b62",
   "metadata": {},
   "source": [
    "# プログラム"
   ]
  },
  {
   "cell_type": "code",
   "execution_count": null,
   "id": "eb7cf98c",
   "metadata": {},
   "outputs": [
    {
     "name": "stdout",
     "output_type": "stream",
     "text": [
      "送料は無料です\n",
      "送料込税込価格は2090円です\n"
     ]
    }
   ],
   "source": [
    "tax_rate       = 10 / 100   # 消費税率（10％）\n",
    "postage        =  350       # 送料\n",
    "free_sip_price = 2000       # 送料無料価格（税込・以上）［free_shipping_price］\n",
    "input_str      = None       # 入力文字列\n",
    "price_exc_tax  = None       # 税抜価格［price_excluding_tax］\n",
    "price_inc_tax  = None       # 税込価格［price_including_tax］\n",
    "total_price    = None       # 送料込税込価格\n",
    "\n",
    "input_str = input(\"税抜価格を入力してください。：\")\n",
    "price_exc_tax = int(input_str)\n",
    "price_inc_tax = int(price_exc_tax * (1 + tax_rate))\n",
    "\n",
    "if free_sip_price <= price_inc_tax :\n",
    "    print(\"送料は無料です\")\n",
    "    total_price = price_inc_tax\n",
    "else:\n",
    "    print(f\"送料は{postage}円です\")\n",
    "    total_price = price_inc_tax + postage\n",
    "\n",
    "print(f\"送料込税込価格は{total_price}円です\")"
   ]
  },
  {
   "cell_type": "markdown",
   "id": "d4c55ef1",
   "metadata": {},
   "source": [
    "## 実行結果"
   ]
  },
  {
   "cell_type": "markdown",
   "id": "5b59b209",
   "metadata": {},
   "source": [
    "入力：2000\n",
    ">送料は無料です  \n",
    "送料込税込価格は2200円です"
   ]
  },
  {
   "cell_type": "markdown",
   "id": "bf9df233",
   "metadata": {},
   "source": [
    "入力：1500\n",
    ">送料は350円です  \n",
    "送料込税込価格は2000円です"
   ]
  },
  {
   "cell_type": "markdown",
   "id": "b9452867",
   "metadata": {},
   "source": [
    "入力：1900\n",
    ">送料は無料です  \n",
    "送料込税込価格は2090円です"
   ]
  }
 ],
 "metadata": {
  "kernelspec": {
   "display_name": ".venv",
   "language": "python",
   "name": "python3"
  },
  "language_info": {
   "codemirror_mode": {
    "name": "ipython",
    "version": 3
   },
   "file_extension": ".py",
   "mimetype": "text/x-python",
   "name": "python",
   "nbconvert_exporter": "python",
   "pygments_lexer": "ipython3",
   "version": "3.12.10"
  }
 },
 "nbformat": 4,
 "nbformat_minor": 5
}
