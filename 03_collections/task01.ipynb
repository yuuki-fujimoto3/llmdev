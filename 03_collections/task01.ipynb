{
 "cells": [
  {
   "cell_type": "markdown",
   "id": "adc2852d",
   "metadata": {},
   "source": [
    "# 仕様"
   ]
  },
  {
   "cell_type": "markdown",
   "id": "cd73d9a0",
   "metadata": {},
   "source": [
    "- 学生の成績をリストとして定義します。以下のソースコードを使用してください。  \n",
    "`grades = [85, 90, 78, 92, 88]`\n",
    "- 成績のリストを使用して以下を行ってください。\n",
    "  - 成績の平均点を計算します。\n",
    "  - 成績の最高点と最低点を求めます。\n",
    "  - 成績が平均以上の学生数をカウントします。\n",
    "- 結果を出力してください。"
   ]
  },
  {
   "cell_type": "markdown",
   "id": "2d388e4c",
   "metadata": {},
   "source": [
    "## 実行結果の例"
   ]
  },
  {
   "cell_type": "markdown",
   "id": "04ee7604",
   "metadata": {},
   "source": [
    "成績リストが `[85, 90, 78, 92, 88]` の場合\n",
    "\n",
    ">平均点: 86.6  \n",
    "最高点: 92  \n",
    "最低点: 78  \n",
    "平均以上の学生数: 3"
   ]
  },
  {
   "cell_type": "markdown",
   "id": "63949db4",
   "metadata": {},
   "source": [
    "成績リストが `[70, 75, 80, 85, 90]` の場合\n",
    "\n",
    ">平均点: 80.0  \n",
    "最高点: 90  \n",
    "最低点: 70  \n",
    "平均以上の学生数: 3"
   ]
  },
  {
   "cell_type": "markdown",
   "id": "4f3806e9",
   "metadata": {},
   "source": [
    "# プログラム"
   ]
  },
  {
   "cell_type": "code",
   "execution_count": 6,
   "id": "4fc167c3",
   "metadata": {},
   "outputs": [
    {
     "name": "stdout",
     "output_type": "stream",
     "text": [
      "平均点: 86.6\n",
      "最高点: 92\n",
      "最低点: 78\n",
      "平均以上の学生数: 3\n"
     ]
    }
   ],
   "source": [
    "grades = [85, 90, 78, 92, 88]   # 学生の成績リスト\n",
    "#grades = [70, 75, 80, 85, 90]   # 学生の成績リスト（実行結果２のパターン）\n",
    "#grades = [0, 10, 20, 30, 100]   # 学生の成績リスト（実行結果３のパターン）\n",
    "avg_score = None    # 平均点\n",
    "max_score = None    # 最高点\n",
    "min_score = None    # 最低点\n",
    "count_avg_over = None   # 平均点以上のカウント数\n",
    "\n",
    "avg_score = sum(grades) / len(grades)\n",
    "max_score = max(grades)\n",
    "min_score = min(grades)\n",
    "count_avg_over = len([i for i in grades if avg_score <= i])\n",
    "\n",
    "print(f\"平均点: {avg_score}\")\n",
    "print(f\"最高点: {max_score}\")\n",
    "print(f\"最低点: {min_score}\")\n",
    "print(f\"平均以上の学生数: {count_avg_over}\")"
   ]
  },
  {
   "cell_type": "markdown",
   "id": "43bae62b",
   "metadata": {},
   "source": [
    "## 実行結果"
   ]
  },
  {
   "cell_type": "markdown",
   "id": "0ccf0393",
   "metadata": {},
   "source": [
    "成績リストが `[85, 90, 78, 92, 88]` の場合\n",
    "\n",
    ">平均点: 86.6  \n",
    "最高点: 92  \n",
    "最低点: 78  \n",
    "平均以上の学生数: 3"
   ]
  },
  {
   "cell_type": "markdown",
   "id": "907ce82d",
   "metadata": {},
   "source": [
    "成績リストが `[70, 75, 80, 85, 90]` の場合\n",
    "\n",
    ">平均点: 80.0  \n",
    "最高点: 90  \n",
    "最低点: 70  \n",
    "平均以上の学生数: 3"
   ]
  },
  {
   "cell_type": "markdown",
   "id": "ccd20c09",
   "metadata": {},
   "source": [
    "成績リストが `[0, 10, 20, 30, 100]` の場合\n",
    "\n",
    ">平均点: 32.0  \n",
    "最高点: 100  \n",
    "最低点: 0  \n",
    "平均以上の学生数: 1"
   ]
  }
 ],
 "metadata": {
  "kernelspec": {
   "display_name": ".venv",
   "language": "python",
   "name": "python3"
  },
  "language_info": {
   "codemirror_mode": {
    "name": "ipython",
    "version": 3
   },
   "file_extension": ".py",
   "mimetype": "text/x-python",
   "name": "python",
   "nbconvert_exporter": "python",
   "pygments_lexer": "ipython3",
   "version": "3.12.10"
  }
 },
 "nbformat": 4,
 "nbformat_minor": 5
}
