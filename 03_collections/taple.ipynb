{
 "cells": [
  {
   "cell_type": "markdown",
   "id": "4cf7c694",
   "metadata": {},
   "source": [
    "### Lesson 3 Chapter 5.1 タプルを作成する"
   ]
  },
  {
   "cell_type": "code",
   "execution_count": null,
   "id": "0430b19f",
   "metadata": {},
   "outputs": [
    {
     "name": "stdout",
     "output_type": "stream",
     "text": [
      "(1, 2, 3, 4, 5)\n",
      "('apple', 'banana', 'cherry')\n",
      "(1, 'apple', 3.14, True)\n",
      "()\n",
      "(1,)\n"
     ]
    }
   ],
   "source": [
    "# 数値を格納したタプル\n",
    "numbers = (1, 2, 3, 4, 5)\n",
    "print(numbers)  # (1, 2, 3, 4, 5)\n",
    "\n",
    "# 文字列を格納したタプル\n",
    "fruits = (\"apple\", \"banana\", \"cherry\")\n",
    "print(fruits)   # ('apple', 'banana', 'cherry')\n",
    "\n",
    "# 異なるデータ型を混在させたタプル\n",
    "mixed = (1, \"apple\", 3.14, True)\n",
    "print(mixed)    # (1, 'apple', 3.14, True)\n",
    "\n",
    "# 空のタプル\n",
    "empty_tuple = ()\n",
    "print(empty_tuple)  # ()\n",
    "\n",
    "# 要素が1つだけのタプル\n",
    "one_element_tuple = (1,)\n",
    "print(one_element_tuple)    # (1,)"
   ]
  },
  {
   "cell_type": "code",
   "execution_count": 2,
   "id": "88c71ed9",
   "metadata": {},
   "outputs": [
    {
     "name": "stdout",
     "output_type": "stream",
     "text": [
      "('h', 'e', 'l', 'l', 'o')\n",
      "(1, 2, 3)\n",
      "(0, 1, 2, 3, 4)\n",
      "()\n"
     ]
    }
   ],
   "source": [
    "# 文字列をタプルに変換\n",
    "string_to_tuple = tuple(\"hello\")\n",
    "print(string_to_tuple)  # ('h', 'e', 'l', 'l', 'o')\n",
    "\n",
    "# リストをタプルに変換\n",
    "list_to_tuple = tuple([1, 2, 3])\n",
    "print(list_to_tuple)    # (1, 2, 3)\n",
    "\n",
    "# range()関数で生成された範囲をタプルに変換\n",
    "range_to_tuple = tuple(range(5))\n",
    "print(range_to_tuple)   # (0, 1, 2, 3, 4)\n",
    "\n",
    "# tuple()関数を使った空のタプル\n",
    "empty_tuple = tuple()\n",
    "print(empty_tuple)      # ()"
   ]
  },
  {
   "cell_type": "code",
   "execution_count": 3,
   "id": "4f4f4afa",
   "metadata": {},
   "outputs": [
    {
     "name": "stdout",
     "output_type": "stream",
     "text": [
      "(None, None, None, None, None)\n",
      "(0, 0, 0, 0, 0, 0, 0, 0, 0, 0)\n"
     ]
    }
   ],
   "source": [
    "# None で初期化されたタプル\n",
    "none_tuple = (None,) * 5\n",
    "print(none_tuple)   # (None, None, None, None, None)\n",
    "\n",
    "# 特定の値で初期化されたタプル\n",
    "zeros = (0,) * 10\n",
    "print(zeros)        # (0, 0, 0, 0, 0, 0, 0, 0, 0, 0)"
   ]
  },
  {
   "cell_type": "code",
   "execution_count": 4,
   "id": "719bd27b",
   "metadata": {},
   "outputs": [
    {
     "name": "stdout",
     "output_type": "stream",
     "text": [
      "(1, 2, 3)\n",
      "(4, 5, 6)\n"
     ]
    }
   ],
   "source": [
    "# 元のリスト\n",
    "original_list = [1, 2, 3]\n",
    "\n",
    "# listをタプルに変換\n",
    "copied_tuple = tuple(original_list)\n",
    "print(copied_tuple)     # (1, 2, 3)\n",
    "\n",
    "# タプル自体を新しいタプルにコピーする\n",
    "original_tuple = (4, 5, 6)\n",
    "copied_tuple2 = tuple(original_tuple)\n",
    "print(copied_tuple2)    # (4, 5, 6)"
   ]
  },
  {
   "cell_type": "markdown",
   "id": "97d7d8a1",
   "metadata": {},
   "source": [
    "### Lesson 3 Chapter 5.2 タプルの基本操作"
   ]
  },
  {
   "cell_type": "code",
   "execution_count": 5,
   "id": "4c05a8b8",
   "metadata": {},
   "outputs": [
    {
     "name": "stdout",
     "output_type": "stream",
     "text": [
      "apple\n",
      "cherry\n"
     ]
    }
   ],
   "source": [
    "fruits = (\"apple\", \"banana\", \"cherry\")\n",
    "\n",
    "# インデックス0（最初の要素）にアクセス\n",
    "print(fruits[0])    # apple\n",
    "\n",
    "# インデックス-1（最後の要素）にアクセス\n",
    "print(fruits[-1])   # cherry"
   ]
  },
  {
   "cell_type": "code",
   "execution_count": 6,
   "id": "af6da22e",
   "metadata": {},
   "outputs": [
    {
     "name": "stdout",
     "output_type": "stream",
     "text": [
      "(1, 2)\n",
      "(0, 1, 2)\n",
      "(2, 3, 4, 5)\n",
      "(5, 4, 3, 2, 1, 0)\n"
     ]
    }
   ],
   "source": [
    "numbers = (0, 1, 2, 3, 4, 5)\n",
    "\n",
    "# インデックス1から3の要素を取得（3は含まない）\n",
    "print(numbers[1:3])     # (1, 2)\n",
    "\n",
    "# 最初からインデックス3まで（3は含まない）\n",
    "print(numbers[:3])      # (0, 1, 2)\n",
    "\n",
    "# インデックス2から最後まで\n",
    "print(numbers[2:])      # (2, 3, 4, 5)\n",
    "\n",
    "# 全要素を逆順に\n",
    "print(numbers[::-1])    # (5, 4, 3, 2, 1, 0)"
   ]
  },
  {
   "cell_type": "code",
   "execution_count": 7,
   "id": "073f8e76",
   "metadata": {},
   "outputs": [
    {
     "name": "stdout",
     "output_type": "stream",
     "text": [
      "True\n",
      "2\n"
     ]
    }
   ],
   "source": [
    "fruits = (\"apple\", \"banana\", \"cherry\")\n",
    "\n",
    "# 要素がタプルに含まれているか確認\n",
    "print(\"banana\" in fruits)       # True\n",
    "\n",
    "# 指定要素のインデックスを取得\n",
    "print(fruits.index(\"cherry\"))   # 2"
   ]
  },
  {
   "cell_type": "code",
   "execution_count": 8,
   "id": "1fc0a68a",
   "metadata": {},
   "outputs": [
    {
     "name": "stdout",
     "output_type": "stream",
     "text": [
      "3\n"
     ]
    }
   ],
   "source": [
    "numbers = (1, 2, 3, 2, 4, 2, 5)\n",
    "\n",
    "# 2がタプルに何回登場するか\n",
    "print(numbers.count(2)) # 3"
   ]
  },
  {
   "cell_type": "code",
   "execution_count": 9,
   "id": "76b8158c",
   "metadata": {},
   "outputs": [
    {
     "name": "stdout",
     "output_type": "stream",
     "text": [
      "(1, 2, 3, 4, 5, 6)\n"
     ]
    }
   ],
   "source": [
    "tuple1 = (1, 2, 3)\n",
    "tuple2 = (4, 5, 6)\n",
    "\n",
    "# + 演算子を使ってタプルを結合\n",
    "combined_tuple = tuple1 + tuple2\n",
    "print(combined_tuple)   # (1, 2, 3, 4, 5, 6)"
   ]
  }
 ],
 "metadata": {
  "kernelspec": {
   "display_name": ".venv",
   "language": "python",
   "name": "python3"
  },
  "language_info": {
   "codemirror_mode": {
    "name": "ipython",
    "version": 3
   },
   "file_extension": ".py",
   "mimetype": "text/x-python",
   "name": "python",
   "nbconvert_exporter": "python",
   "pygments_lexer": "ipython3",
   "version": "3.12.10"
  }
 },
 "nbformat": 4,
 "nbformat_minor": 5
}
