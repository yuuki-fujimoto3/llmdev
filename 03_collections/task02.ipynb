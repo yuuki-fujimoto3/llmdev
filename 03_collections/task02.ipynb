{
 "cells": [
  {
   "cell_type": "markdown",
   "id": "30682068",
   "metadata": {},
   "source": [
    "# 仕様"
   ]
  },
  {
   "cell_type": "markdown",
   "id": "e8445726",
   "metadata": {},
   "source": [
    "英単語の入力を受け付けます。未入力でリターン（エンター）キーを押されるまで、英単語の受付を繰り返します。受付が完了したら、入力された英単語をABC順に並べ替えて表示します。また、すべての英単語に含まれるアルファベットごとの数も表示します。"
   ]
  },
  {
   "cell_type": "markdown",
   "id": "662a62d1",
   "metadata": {},
   "source": [
    "## 実行結果の例"
   ]
  },
  {
   "cell_type": "markdown",
   "id": "02fa7c36",
   "metadata": {},
   "source": [
    ">英単語を入力してください：dog  \n",
    "英単語を入力してください：cat  \n",
    "英単語を入力してください：giraffe  \n",
    "英単語を入力してください：kangaroo  \n",
    "英単語を入力してください：horse  \n",
    "英単語を入力してください：bear  \n",
    "英単語を入力してください：  \n",
    "入力した英単語：['bear', 'cat', 'dog', 'giraffe', 'horse', 'kangaroo']  \n",
    "aが5個ありました  \n",
    "bが1個ありました  \n",
    "cが1個ありました  \n",
    "dが1個ありました  \n",
    "eが3個ありました  \n",
    "fが2個ありました  \n",
    "gが3個ありました  \n",
    "hが1個ありました  \n",
    "iが1個ありました  \n",
    "kが1個ありました  \n",
    "nが1個ありました  \n",
    "oが4個ありました  \n",
    "rが4個ありました  \n",
    "sが1個ありました  \n",
    "tが1個ありました  "
   ]
  },
  {
   "cell_type": "markdown",
   "id": "3f397533",
   "metadata": {},
   "source": [
    "# プログラム"
   ]
  },
  {
   "cell_type": "code",
   "execution_count": 10,
   "id": "becb3655",
   "metadata": {},
   "outputs": [
    {
     "name": "stdout",
     "output_type": "stream",
     "text": [
      "入力した英単語：['bear', 'cat', 'dog', 'giraffe', 'horse', 'kangaroo']\n",
      "aが5個ありました\n",
      "bが1個ありました\n",
      "cが1個ありました\n",
      "dが1個ありました\n",
      "eが3個ありました\n",
      "fが2個ありました\n",
      "gが3個ありました\n",
      "hが1個ありました\n",
      "iが1個ありました\n",
      "kが1個ありました\n",
      "nが1個ありました\n",
      "oが4個ありました\n",
      "rが4個ありました\n",
      "sが1個ありました\n",
      "tが1個ありました\n"
     ]
    }
   ],
   "source": [
    "input_str   = None  # 入力文字列\n",
    "words       = []    # 単語（リスト）\n",
    "chars_count = None  # 文字別の文字数カウント（辞書）\n",
    "\n",
    "chars_count = dict.fromkeys(\"abcdefghijklmnopqrstuvwxyz\", 0)\n",
    "\n",
    "while True:\n",
    "    input_str = input(\"英単語を入力してください：\")\n",
    "    if input_str == \"\": break\n",
    "\n",
    "    words.append(input_str) \n",
    "    for char in input_str.lower():\n",
    "        chars_count[char] += 1\n",
    "\n",
    "words.sort()\n",
    "\n",
    "print(f\"入力した英単語：{words}\")\n",
    "\n",
    "for item in chars_count.items():\n",
    "    if 0 < item[1]:\n",
    "        print(f\"{item[0]}が{item[1]}個ありました\")"
   ]
  },
  {
   "cell_type": "markdown",
   "id": "1c140421",
   "metadata": {},
   "source": [
    "## 実行結果"
   ]
  },
  {
   "cell_type": "markdown",
   "id": "a6a36e7a",
   "metadata": {},
   "source": [
    ">英単語を入力してください：dog  \n",
    "英単語を入力してください：cat  \n",
    "英単語を入力してください：giraffe  \n",
    "英単語を入力してください：kangaroo  \n",
    "英単語を入力してください：horse  \n",
    "英単語を入力してください：bear  \n",
    "英単語を入力してください：  \n",
    "入力した英単語：['bear', 'cat', 'dog', 'giraffe', 'horse', 'kangaroo']  \n",
    "aが5個ありました  \n",
    "bが1個ありました  \n",
    "cが1個ありました  \n",
    "dが1個ありました  \n",
    "eが3個ありました  \n",
    "fが2個ありました  \n",
    "gが3個ありました  \n",
    "hが1個ありました  \n",
    "iが1個ありました  \n",
    "kが1個ありました  \n",
    "nが1個ありました  \n",
    "oが4個ありました  \n",
    "rが4個ありました  \n",
    "sが1個ありました  \n",
    "tが1個ありました"
   ]
  }
 ],
 "metadata": {
  "kernelspec": {
   "display_name": ".venv",
   "language": "python",
   "name": "python3"
  },
  "language_info": {
   "codemirror_mode": {
    "name": "ipython",
    "version": 3
   },
   "file_extension": ".py",
   "mimetype": "text/x-python",
   "name": "python",
   "nbconvert_exporter": "python",
   "pygments_lexer": "ipython3",
   "version": "3.12.10"
  }
 },
 "nbformat": 4,
 "nbformat_minor": 5
}
