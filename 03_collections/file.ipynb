{
 "cells": [
  {
   "cell_type": "markdown",
   "id": "0ab7867d",
   "metadata": {},
   "source": [
    "### Lesson 3 Chapter 8.2 テキストファイルの操作"
   ]
  },
  {
   "cell_type": "code",
   "execution_count": 1,
   "id": "7f2bc683",
   "metadata": {},
   "outputs": [],
   "source": [
    "with open(\"sample.txt\", \"w\") as file:\n",
    "    file.write(\"Hello, World!\")"
   ]
  },
  {
   "cell_type": "markdown",
   "id": "725059d4",
   "metadata": {},
   "source": [
    "sample.txt\n",
    "***\n",
    "```\n",
    "Hello, World!\n",
    "```"
   ]
  },
  {
   "cell_type": "code",
   "execution_count": 1,
   "id": "33061b23",
   "metadata": {},
   "outputs": [],
   "source": [
    "lines = [\"First line\\n\", \"Second line\\n\", \"Third line\\n\"]\n",
    "with open(\"sample.txt\", \"w\") as file:\n",
    "    file.writelines(lines)"
   ]
  },
  {
   "cell_type": "markdown",
   "id": "18657150",
   "metadata": {},
   "source": [
    "sample.txt\n",
    "***\n",
    "```\n",
    "First line\n",
    "Second line\n",
    "Third line\n",
    "\n",
    "```"
   ]
  },
  {
   "cell_type": "code",
   "execution_count": null,
   "id": "9644bbef",
   "metadata": {},
   "outputs": [
    {
     "name": "stdout",
     "output_type": "stream",
     "text": [
      "First line\n",
      "Second line\n",
      "Third line\n",
      "\n"
     ]
    }
   ],
   "source": [
    "with open(\"sample.txt\", \"r\") as file:\n",
    "    data = file.read()\n",
    "    print(data)"
   ]
  },
  {
   "cell_type": "code",
   "execution_count": 3,
   "id": "72a04231",
   "metadata": {},
   "outputs": [
    {
     "name": "stdout",
     "output_type": "stream",
     "text": [
      "0:First line\n",
      "1:Second line\n",
      "2:Third line\n"
     ]
    }
   ],
   "source": [
    "with open(\"sample.txt\", \"r\") as file:\n",
    "    lines = file.readlines()\n",
    "    for index, line in enumerate(lines):\n",
    "        print(f\"{index}:{line.strip()}\")"
   ]
  },
  {
   "cell_type": "code",
   "execution_count": 4,
   "id": "feb7c046",
   "metadata": {},
   "outputs": [
    {
     "name": "stdout",
     "output_type": "stream",
     "text": [
      "First line\n",
      "Second line\n",
      "Third line\n"
     ]
    }
   ],
   "source": [
    "with open(\"sample.txt\", \"r\") as file:\n",
    "    for line in file:\n",
    "        print(line.strip())"
   ]
  },
  {
   "cell_type": "markdown",
   "id": "af45f55e",
   "metadata": {},
   "source": [
    "### Lesson 3 Chapter 8.3 CSVファイルの操作"
   ]
  },
  {
   "cell_type": "code",
   "execution_count": 5,
   "id": "988b3053",
   "metadata": {},
   "outputs": [],
   "source": [
    "import csv\n",
    "\n",
    "data = [\n",
    "    [\"name\"   , \"age\", \"city\"],\n",
    "    [\"Alice\"  ,  \"30\", \"New York\"],\n",
    "    [\"Bob\"    ,  \"25\", \"Los Angeles\"],\n",
    "    [\"Charlie\",  \"35\", \"Chicago\"]\n",
    "]\n",
    "\n",
    "with open(\"sample1.csv\", mode=\"w\", encoding=\"utf-8\", newline=\"\") as file:\n",
    "    writer = csv.writer(file)\n",
    "    writer.writerows(data)"
   ]
  },
  {
   "cell_type": "markdown",
   "id": "4f4ec29e",
   "metadata": {},
   "source": [
    "sample1.csv\n",
    "___\n",
    "```\n",
    "name,age,city\n",
    "Alice,30,New York\n",
    "Bob,25,Los Angeles\n",
    "Charlie,35,Chicago\n",
    "\n",
    "```"
   ]
  },
  {
   "cell_type": "code",
   "execution_count": 6,
   "id": "30912662",
   "metadata": {},
   "outputs": [],
   "source": [
    "import csv\n",
    "\n",
    "data = [\n",
    "    {\"name\": \"Alice\"  , \"age\": \"30\", \"city\": \"New York\"},\n",
    "    {\"name\": \"Bob\"    , \"age\": \"25\", \"city\": \"Los Angeles\"},\n",
    "    {\"name\": \"Charlie\", \"age\": \"35\", \"city\": \"Chicago\"}\n",
    "]\n",
    "\n",
    "with open(\"sample2.csv\", mode=\"w\", encoding=\"utf-8\", newline=\"\") as file:\n",
    "    fieldnames = [\"name\", \"age\", \"city\"]\n",
    "    writer = csv.DictWriter(file, fieldnames=fieldnames)\n",
    "\n",
    "    writer.writeheader()    # ヘッダー行を書き込む\n",
    "    writer.writerows(data)"
   ]
  },
  {
   "cell_type": "markdown",
   "id": "76c1ba08",
   "metadata": {},
   "source": [
    "sample2.csv\n",
    "***\n",
    "```\n",
    "name,age,city\n",
    "Alice,30,New York\n",
    "Bob,25,Los Angeles\n",
    "Charlie,35,Chicago\n",
    "\n",
    "```"
   ]
  },
  {
   "cell_type": "code",
   "execution_count": null,
   "id": "d8956502",
   "metadata": {},
   "outputs": [
    {
     "name": "stdout",
     "output_type": "stream",
     "text": [
      "['name', 'age', 'city']\n",
      "['Alice', '30', 'New York']\n",
      "['Bob', '25', 'Los Angeles']\n",
      "['Charlie', '35', 'Chicago']\n"
     ]
    }
   ],
   "source": [
    "import csv\n",
    "\n",
    "with open(\"sample1.csv\", mode=\"r\", encoding=\"utf-8\") as file:\n",
    "    reader = csv.reader(file)\n",
    "    for row in reader:\n",
    "        print(row)"
   ]
  },
  {
   "cell_type": "code",
   "execution_count": 8,
   "id": "766fef89",
   "metadata": {},
   "outputs": [
    {
     "name": "stdout",
     "output_type": "stream",
     "text": [
      "{'name': 'Alice', 'age': '30', 'city': 'New York'}\n",
      "{'name': 'Bob', 'age': '25', 'city': 'Los Angeles'}\n",
      "{'name': 'Charlie', 'age': '35', 'city': 'Chicago'}\n"
     ]
    }
   ],
   "source": [
    "import csv\n",
    "\n",
    "with open(\"sample2.csv\", mode=\"r\", encoding=\"utf-8\") as file:\n",
    "    reader = csv.DictReader(file)\n",
    "    for row in  reader:\n",
    "        print(row)"
   ]
  },
  {
   "cell_type": "markdown",
   "id": "f2451abc",
   "metadata": {},
   "source": [
    "### Lesson 3 Chapter 8.4 JSONファイルの操作"
   ]
  },
  {
   "cell_type": "code",
   "execution_count": 9,
   "id": "00af1d16",
   "metadata": {},
   "outputs": [],
   "source": [
    "import json\n",
    "\n",
    "data = {\n",
    "    \"name\"   : \"Alice\",\n",
    "    \"age\"    : 30,\n",
    "    \"city\"   : \"New York\",\n",
    "    \"hobbies\": [\"reading\", \"traveling\", \"coding\"]\n",
    "}\n",
    "\n",
    "with open(\"data.json\", mode=\"w\", encoding=\"utf-8\") as file:\n",
    "    json.dump(data, file, indent=4)"
   ]
  },
  {
   "cell_type": "markdown",
   "id": "544f17be",
   "metadata": {},
   "source": [
    "data.json\n",
    "___\n",
    "```\n",
    "{\n",
    "    \"name\": \"Alice\",\n",
    "    \"age\": 30,\n",
    "    \"city\": \"New York\",\n",
    "    \"hobbies\": [\n",
    "        \"reading\",\n",
    "        \"traveling\",\n",
    "        \"coding\"\n",
    "    ]\n",
    "}\n",
    "```"
   ]
  },
  {
   "cell_type": "code",
   "execution_count": 11,
   "id": "da1b54af",
   "metadata": {},
   "outputs": [
    {
     "name": "stdout",
     "output_type": "stream",
     "text": [
      "{'name': 'Alice', 'age': 30, 'city': 'New York', 'hobbies': ['reading', 'traveling', 'coding']}\n",
      "<class 'dict'>\n",
      "Alice\n"
     ]
    }
   ],
   "source": [
    "import json\n",
    "\n",
    "with open(\"data.json\", mode=\"r\", encoding=\"utf-8\") as file:\n",
    "    data = json.load(file)\n",
    "    print(data)\n",
    "    print(type(data))   # <class 'dict'>\n",
    "    print(data[\"name\"]) # Alice"
   ]
  }
 ],
 "metadata": {
  "kernelspec": {
   "display_name": ".venv",
   "language": "python",
   "name": "python3"
  },
  "language_info": {
   "codemirror_mode": {
    "name": "ipython",
    "version": 3
   },
   "file_extension": ".py",
   "mimetype": "text/x-python",
   "name": "python",
   "nbconvert_exporter": "python",
   "pygments_lexer": "ipython3",
   "version": "3.12.10"
  }
 },
 "nbformat": 4,
 "nbformat_minor": 5
}
