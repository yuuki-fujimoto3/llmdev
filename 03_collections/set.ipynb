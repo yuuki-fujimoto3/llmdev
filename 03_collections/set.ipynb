{
 "cells": [
  {
   "cell_type": "markdown",
   "id": "287e3039",
   "metadata": {},
   "source": [
    "### Lesson 3 Chapter 7.1 セットを作成する"
   ]
  },
  {
   "cell_type": "code",
   "execution_count": 1,
   "id": "c9f1532a",
   "metadata": {},
   "outputs": [
    {
     "name": "stdout",
     "output_type": "stream",
     "text": [
      "{1, 2, 3, 4, 5}\n",
      "{'apple', 42, (1, 2, 3)}\n",
      "set()\n"
     ]
    }
   ],
   "source": [
    "# 数値を格納したセット\n",
    "numbers = {1, 2, 3, 4, 5}\n",
    "print(numbers)      # {1, 2, 3, 4, 5}\n",
    "\n",
    "# 異なるデータ型の値を格納したセット\n",
    "mixed_set = {\"apple\", 42, (1, 2, 3)}\n",
    "print(mixed_set)    # {'apple', 42, (1, 2, 3)}\n",
    "\n",
    "# 空のセット（空の辞書と区別するために set() を使用）\n",
    "empty_set = set()\n",
    "print(empty_set)    # set()"
   ]
  },
  {
   "cell_type": "code",
   "execution_count": 2,
   "id": "443bd2c6",
   "metadata": {},
   "outputs": [
    {
     "name": "stdout",
     "output_type": "stream",
     "text": [
      "{1, 2, 3}\n",
      "{'e', 'l', 'h', 'o'}\n"
     ]
    }
   ],
   "source": [
    "# リストからセットを作成\n",
    "number_list = [1, 2, 3, 2, 1]\n",
    "unique_numbers = set(number_list)\n",
    "print(unique_numbers)   # {1, 2, 3}\n",
    "\n",
    "# 文字列からセットを作成\n",
    "letters = set(\"hello\")\n",
    "print(letters)          # {'h', 'e', 'l', 'o'}"
   ]
  },
  {
   "cell_type": "markdown",
   "id": "1bf08fbd",
   "metadata": {},
   "source": [
    "### Lesson 3 Chapter 7.2 セットの基本操作"
   ]
  },
  {
   "cell_type": "code",
   "execution_count": 3,
   "id": "927df8ac",
   "metadata": {},
   "outputs": [
    {
     "name": "stdout",
     "output_type": "stream",
     "text": [
      "{'cherry', 'apple', 'banana'}\n",
      "{'cherry', 'apple', 'banana'}\n"
     ]
    }
   ],
   "source": [
    "fruits = {\"apple\", \"banana\"}\n",
    "fruits.add(\"cherry\")\n",
    "print(fruits)   # {'apple', 'banana', 'cherry'}\n",
    "\n",
    "# すでに存在する要素を追加してもセットには影響なし\n",
    "fruits.add(\"apple\")\n",
    "print(fruits)   # {'apple', 'banana', 'cherry'}"
   ]
  },
  {
   "cell_type": "code",
   "execution_count": 4,
   "id": "83f7c0cc",
   "metadata": {},
   "outputs": [
    {
     "name": "stdout",
     "output_type": "stream",
     "text": [
      "{'cherry', 'apple'}\n",
      "{'cherry', 'apple'}\n",
      "{'apple'}\n",
      "cherry\n",
      "set()\n"
     ]
    }
   ],
   "source": [
    "fruits = {\"apple\", \"banana\", \"cherry\"}\n",
    "\n",
    "# 特定の要素を排除\n",
    "fruits.remove(\"banana\")\n",
    "print(fruits)       # {'apple', 'cherry'}\n",
    "\n",
    "# 存在しない要素の削除\n",
    "fruits.discard(\"orange\")    # エラーにならない\n",
    "print(fruits)       # {'apple', 'cherry'}\n",
    "\n",
    "# 任意の要素を削除\n",
    "removed_item = fruits.pop()\n",
    "print(fruits)       # {'cherry'}（'apple' が削除されたと仮定）\n",
    "print(removed_item) # apple\n",
    "\n",
    "# セットを空にする\n",
    "fruits.clear()\n",
    "print(fruits)       # set()"
   ]
  },
  {
   "cell_type": "code",
   "execution_count": 5,
   "id": "b929a95c",
   "metadata": {},
   "outputs": [
    {
     "name": "stdout",
     "output_type": "stream",
     "text": [
      "{1, 2, 3, 4, 5, 6}\n",
      "{3, 4}\n",
      "{1, 2}\n",
      "{1, 2, 5, 6}\n"
     ]
    }
   ],
   "source": [
    "a = {1, 2, 3, 4}\n",
    "b = {3, 4, 5, 6}\n",
    "\n",
    "# 和集合\n",
    "print(a | b)    # {1, 2, 3, 4, 5, 6}\n",
    "\n",
    "# 積集合\n",
    "print(a & b)    # {3, 4}\n",
    "\n",
    "# 差集合\n",
    "print(a - b)    # {1, 2}\n",
    "\n",
    "# 対称差集合\n",
    "print(a ^ b)    # {1, 2, 5, 6}"
   ]
  },
  {
   "cell_type": "code",
   "execution_count": 6,
   "id": "f8aad413",
   "metadata": {},
   "outputs": [
    {
     "name": "stdout",
     "output_type": "stream",
     "text": [
      "True\n",
      "False\n"
     ]
    }
   ],
   "source": [
    "fruits = {\"apple\", \"banana\", \"cherry\"}\n",
    "\n",
    "# \"apple\" がセットにあるか確認\n",
    "print(\"apple\" in fruits)    # True\n",
    "\n",
    "# \"grape\" がセットにあるか確認\n",
    "print(\"grape\" in fruits)    # False"
   ]
  }
 ],
 "metadata": {
  "kernelspec": {
   "display_name": ".venv",
   "language": "python",
   "name": "python3"
  },
  "language_info": {
   "codemirror_mode": {
    "name": "ipython",
    "version": 3
   },
   "file_extension": ".py",
   "mimetype": "text/x-python",
   "name": "python",
   "nbconvert_exporter": "python",
   "pygments_lexer": "ipython3",
   "version": "3.12.10"
  }
 },
 "nbformat": 4,
 "nbformat_minor": 5
}
