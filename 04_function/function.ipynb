{
 "cells": [
  {
   "cell_type": "markdown",
   "id": "66e757c1",
   "metadata": {},
   "source": [
    "### Lesson 4 Chapter 2.2 関数の定義と呼び出し"
   ]
  },
  {
   "cell_type": "code",
   "execution_count": 3,
   "id": "c605e818",
   "metadata": {},
   "outputs": [],
   "source": [
    "def is_palindrome(s):\n",
    "    if s == s[::-1]:\n",
    "        print(f\"「{s}」は回文です！\")\n",
    "    else:\n",
    "        print(f\"「{s}」は回文ではないです。\")"
   ]
  },
  {
   "cell_type": "code",
   "execution_count": 4,
   "id": "e5c8f56f",
   "metadata": {},
   "outputs": [
    {
     "name": "stdout",
     "output_type": "stream",
     "text": [
      "「にんてんどううどんてんに」は回文です！\n"
     ]
    }
   ],
   "source": [
    "is_palindrome(\"にんてんどううどんてんに\")"
   ]
  },
  {
   "cell_type": "code",
   "execution_count": 5,
   "id": "004b292e",
   "metadata": {},
   "outputs": [
    {
     "name": "stdout",
     "output_type": "stream",
     "text": [
      "「にんてんどううどんてんに」は回文です！\n",
      "「Pythonは便利だが遅い」は回文ではないです。\n",
      "「no devil lived on」は回文です！\n"
     ]
    }
   ],
   "source": [
    "def is_palindrome(s):\n",
    "    if s == s[::-1]:\n",
    "        print(f\"「{s}」は回文です！\")\n",
    "    else:\n",
    "        print(f\"「{s}」は回文ではないです。\")\n",
    "\n",
    "is_palindrome(\"にんてんどううどんてんに\")\n",
    "\n",
    "is_palindrome(\"Pythonは便利だが遅い\")\n",
    "\n",
    "is_palindrome(\"no devil lived on\")"
   ]
  },
  {
   "cell_type": "markdown",
   "id": "62094e15",
   "metadata": {},
   "source": [
    "### Lesson 4 Chapter 2.3 引数（パラメータ）"
   ]
  },
  {
   "cell_type": "code",
   "execution_count": 1,
   "id": "236070c5",
   "metadata": {},
   "outputs": [],
   "source": [
    "def greet(name):\n",
    "    print(f\"こんにちは、{name}さん！\")"
   ]
  },
  {
   "cell_type": "code",
   "execution_count": 2,
   "id": "a84005d2",
   "metadata": {},
   "outputs": [
    {
     "name": "stdout",
     "output_type": "stream",
     "text": [
      "こんにちは、太郎さん！\n",
      "こんにちは、花子さん！\n"
     ]
    }
   ],
   "source": [
    "greet(\"太郎\")\n",
    "greet(\"花子\")"
   ]
  },
  {
   "cell_type": "code",
   "execution_count": 3,
   "id": "3e58ecd7",
   "metadata": {},
   "outputs": [],
   "source": [
    "def introduce(name, age):\n",
    "    print(f\"こんにちは、{name}さん！ 年齢は{age}歳ですね。\")"
   ]
  },
  {
   "cell_type": "code",
   "execution_count": 4,
   "id": "df090729",
   "metadata": {},
   "outputs": [
    {
     "name": "stdout",
     "output_type": "stream",
     "text": [
      "こんにちは、太郎さん！ 年齢は20歳ですね。\n",
      "こんにちは、花子さん！ 年齢は25歳ですね。\n"
     ]
    }
   ],
   "source": [
    "introduce(\"太郎\", 20)\n",
    "introduce(\"花子\", 25)"
   ]
  },
  {
   "cell_type": "code",
   "execution_count": 5,
   "id": "423c4ac3",
   "metadata": {},
   "outputs": [],
   "source": [
    "def introduce(name, age=18):\n",
    "    print(f\"こんにちは、{name}さん！ 年齢は{age}歳ですね。\")"
   ]
  },
  {
   "cell_type": "code",
   "execution_count": 6,
   "id": "bcfd203f",
   "metadata": {},
   "outputs": [
    {
     "name": "stdout",
     "output_type": "stream",
     "text": [
      "こんにちは、太郎さん！ 年齢は18歳ですね。\n",
      "こんにちは、花子さん！ 年齢は25歳ですね。\n"
     ]
    }
   ],
   "source": [
    "introduce(\"太郎\")\n",
    "introduce(\"花子\", 25)"
   ]
  },
  {
   "cell_type": "code",
   "execution_count": 7,
   "id": "fdd391e5",
   "metadata": {},
   "outputs": [
    {
     "name": "stdout",
     "output_type": "stream",
     "text": [
      "合計：6\n",
      "合計：50\n"
     ]
    }
   ],
   "source": [
    "def add(*args):\n",
    "    result = sum(args)\n",
    "    print(f\"合計：{result}\")\n",
    "\n",
    "add(1, 2, 3)\n",
    "add(5, 10, 15, 20)"
   ]
  },
  {
   "cell_type": "code",
   "execution_count": 8,
   "id": "99b5afd3",
   "metadata": {},
   "outputs": [
    {
     "name": "stdout",
     "output_type": "stream",
     "text": [
      "namn : 太郎\n",
      "age : 20\n",
      "hobby : 読書\n"
     ]
    }
   ],
   "source": [
    "def introduce(**kwargs):\n",
    "    for key, value in kwargs.items():\n",
    "        print(f\"{key} : {value}\")\n",
    "\n",
    "introduce(namn=\"太郎\", age=20, hobby=\"読書\")"
   ]
  },
  {
   "cell_type": "markdown",
   "id": "bf3436b2",
   "metadata": {},
   "source": [
    "### Lesson 4 Chapter 2.4 戻り値（return文）"
   ]
  },
  {
   "cell_type": "code",
   "execution_count": 9,
   "id": "217cba44",
   "metadata": {},
   "outputs": [],
   "source": [
    "def add(a, b):\n",
    "    result = a + b\n",
    "    return result"
   ]
  },
  {
   "cell_type": "code",
   "execution_count": 10,
   "id": "99de56ee",
   "metadata": {},
   "outputs": [
    {
     "name": "stdout",
     "output_type": "stream",
     "text": [
      "8\n"
     ]
    }
   ],
   "source": [
    "total = add(3, 5)\n",
    "print(total)"
   ]
  },
  {
   "cell_type": "code",
   "execution_count": 11,
   "id": "12972ae1",
   "metadata": {},
   "outputs": [],
   "source": [
    "def calculate(a, b):\n",
    "    sum_result     = a + b\n",
    "    product_result = a * b\n",
    "    return sum_result, product_result"
   ]
  },
  {
   "cell_type": "code",
   "execution_count": 12,
   "id": "fb565fc5",
   "metadata": {},
   "outputs": [
    {
     "name": "stdout",
     "output_type": "stream",
     "text": [
      "足し算結果: 7\n",
      "掛け算結果: 12\n"
     ]
    }
   ],
   "source": [
    "result1, result2 = calculate(3, 4)\n",
    "print(\"足し算結果:\", result1)\n",
    "print(\"掛け算結果:\", result2)"
   ]
  },
  {
   "cell_type": "code",
   "execution_count": 13,
   "id": "a28b34f1",
   "metadata": {},
   "outputs": [
    {
     "name": "stdout",
     "output_type": "stream",
     "text": [
      "Hello!\n",
      "None\n"
     ]
    }
   ],
   "source": [
    "def greet():\n",
    "    print(\"Hello!\")\n",
    "\n",
    "result = greet()\n",
    "print(result)"
   ]
  },
  {
   "cell_type": "code",
   "execution_count": 14,
   "id": "059fecc5",
   "metadata": {},
   "outputs": [
    {
     "name": "stdout",
     "output_type": "stream",
     "text": [
      "25\n"
     ]
    }
   ],
   "source": [
    "# 掛け算を行う関数\n",
    "def multiply(a, b):\n",
    "    return a * b\n",
    "\n",
    "# 2乗を行う関数\n",
    "def square(number):\n",
    "    return multiply(number, number)\n",
    "\n",
    "print(square(5))"
   ]
  }
 ],
 "metadata": {
  "kernelspec": {
   "display_name": ".venv",
   "language": "python",
   "name": "python3"
  },
  "language_info": {
   "codemirror_mode": {
    "name": "ipython",
    "version": 3
   },
   "file_extension": ".py",
   "mimetype": "text/x-python",
   "name": "python",
   "nbconvert_exporter": "python",
   "pygments_lexer": "ipython3",
   "version": "3.12.10"
  }
 },
 "nbformat": 4,
 "nbformat_minor": 5
}
