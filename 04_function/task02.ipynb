{
 "cells": [
  {
   "cell_type": "markdown",
   "id": "56f7ba4c",
   "metadata": {},
   "source": [
    "# 仕様"
   ]
  },
  {
   "cell_type": "markdown",
   "id": "64e42151",
   "metadata": {},
   "source": [
    "__関数の仕様：__\n",
    "- URLを引数として受け取り、Webページのコンテンツの先頭500文字を日時のファイル名で保存し、ファイル名を戻り値として返す `save_url_content()` 関数を作成してください。関数の仕様は以下です。\n",
    "- 指定したURLからデータを取得し、UTF-8形式でデコードしてから先頭500文字を取得します。\n",
    "- 保存するファイル名は現在の日時（例: `20241030_155221.txt`）とし、`.txt` 拡張子で保存してください。\n",
    "- データを取得したファイルへ保存するために、Pythonの標準ライブラリ `datetime` モジュールを使って日時をファイル名に含めてください。\n",
    "- 作成されたファイル名を関数の戻り値として返してください。\n",
    "\n",
    "__呼び出し側の仕様：__\\\n",
    "以下のソースコードで関数を呼び出して確認してください。\n",
    "```\n",
    "url = input(\"URLを入力してください: \")\n",
    "file_name = save_url_content(url)\n",
    "print(f\"Content saved in: {file_name}\")\n",
    "```"
   ]
  },
  {
   "cell_type": "markdown",
   "id": "61b6aa79",
   "metadata": {},
   "source": [
    "## 実行結果の例"
   ]
  },
  {
   "cell_type": "markdown",
   "id": "fdb0b622",
   "metadata": {},
   "source": [
    "URLを `https://techacademy.jp` と入力した場合\n",
    ">Content saved in: 20241030_155221.txt\n",
    "\n",
    "保存されたファイルの内容の例\n",
    "```\n",
    "<!doctype html>\n",
    "<html data-n-head-ssr lang=\"ja\" data-n-head=\"%7B%22lang%22:%7B%22ssr%22:%22ja%22%7D%7D\">\n",
    "  <head>\n",
    "    <meta data-n-head=\"ssr\" charset=\"utf-8\"><meta data-n-head=\"ssr\" name=\"viewport\" content=\"width=device-width,initial-scale=1\"><meta data-n-head=\"ssr\" data-hid=\"keywords\" name=\"keywords\" content=\"プログラミング, ブートキャンプ, エンジニア, ruby on rails, パーソナルメンター\"><meta data-n-head=\"ssr\" data-hid=\"description\" name=\"description\" content=\"【テックアカデミー(TechAcademy)】受講者数No.1のオンラインプログラミングスクール。通過率10%を突破した現役\n",
    "```"
   ]
  },
  {
   "cell_type": "markdown",
   "id": "d1dfb8b5",
   "metadata": {},
   "source": [
    "# プログラム"
   ]
  },
  {
   "cell_type": "code",
   "execution_count": 2,
   "id": "f60d2e28",
   "metadata": {},
   "outputs": [
    {
     "name": "stdout",
     "output_type": "stream",
     "text": [
      "Content saved in: 20251022_152302.txt\n"
     ]
    }
   ],
   "source": [
    "def save_url_content(url):\n",
    "    import urllib.request as url_req\n",
    "    import datetime       as dt\n",
    "    encoding    = \"utf-8\"   # エンコード形式（UTF-8）\n",
    "    savetime    = None      # 取得データのファイル保存日時（要求送信や応答受信の日時ではない）\n",
    "    \n",
    "    # URLを指定してデータを取得\n",
    "    response = url_req.urlopen(url)\n",
    "\n",
    "    # HTMLデータを読み込み、UTF-8文字列にデコード\n",
    "    html = response.read().decode(encoding)\n",
    "\n",
    "    # ファイル名に使用する現在日時を取得\n",
    "    savetime = dt.datetime.now()\n",
    "    filename = savetime.strftime(\"%Y%m%d_%H%M%S\") + \".txt\"\n",
    "    # 取得したHTMLの先頭500文字をファイルに書き込み\n",
    "    with open(filename, \"w\", encoding=encoding) as file:\n",
    "        file.write(html[:500])\n",
    "    \n",
    "    # 作成したファイル名を返す\n",
    "    return filename\n",
    "\n",
    "### 以下、メイン処理\n",
    "\n",
    "url = input(\"URLを入力してください: \")\n",
    "file_name = save_url_content(url)\n",
    "print(f\"Content saved in: {file_name}\")"
   ]
  },
  {
   "cell_type": "markdown",
   "id": "618699c9",
   "metadata": {},
   "source": [
    "## 実行結果"
   ]
  },
  {
   "cell_type": "markdown",
   "id": "604874f8",
   "metadata": {},
   "source": [
    "URLを `https://techacademy.jp` と入力\n",
    ">Content saved in: 20251022_152302.txt\n",
    "\n",
    "保存されたファイル（`20251022_152302.txt`）\n",
    "___\n",
    "```\n",
    "<!DOCTYPE html><html  lang=\"ja\" data-theme=\"techacademy\" data-capo=\"\"><head><meta charset=\"utf-8\">\n",
    "<meta name=\"viewport\" content=\"width=device-width, initial-scale=1\">\n",
    "<title>プログラミングスクール | 受講者数No.1のテックアカデミー</title>\n",
    "<link rel=\"preconnect\" href=\"https://fonts.googleapis.com\">\n",
    "<link rel=\"preconnect\" href=\"https://fonts.gstatic.com\" crossorigin>\n",
    "<script src=\"https://www.googletagmanager.com/gtag/js?id=AW-1006744060\" async data-hid=\"92ebc66\"></script>\n",
    "<script src=\"//static.criteo.net/js/ld/ld.js\" asy\n",
    "```"
   ]
  }
 ],
 "metadata": {
  "kernelspec": {
   "display_name": ".venv",
   "language": "python",
   "name": "python3"
  },
  "language_info": {
   "codemirror_mode": {
    "name": "ipython",
    "version": 3
   },
   "file_extension": ".py",
   "mimetype": "text/x-python",
   "name": "python",
   "nbconvert_exporter": "python",
   "pygments_lexer": "ipython3",
   "version": "3.12.10"
  }
 },
 "nbformat": 4,
 "nbformat_minor": 5
}
