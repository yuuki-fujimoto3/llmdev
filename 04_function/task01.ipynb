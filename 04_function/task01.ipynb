{
 "cells": [
  {
   "cell_type": "markdown",
   "id": "ae86eca4",
   "metadata": {},
   "source": [
    "# 仕様"
   ]
  },
  {
   "cell_type": "markdown",
   "id": "78806a4d",
   "metadata": {},
   "source": [
    "__関数の仕様：__\n",
    "- 文字列を受け取り、バリデーションの結果をブール値で返す関数を作成してください。\n",
    "- バリデーションのルールは以下です。\n",
    "  - ユーザー名は5文字以上15文字以内。条件を満たさない場合は\\\n",
    "  `エラー: ユーザー名は5文字以上15文字以内で入力してください` と表示して\\\n",
    "  `False` を返してください。\n",
    "  - ユーザー名に空白は使えない。含まれている場合は\\\n",
    "  `エラー: ユーザー名に空白を含めることはできません` と表示して\\\n",
    "  `False` を返してください。\n",
    "  - ユーザー名は英数字（アルファベットと数字）のみ使用可能。\\\n",
    "  それ以外の文字が含まれている場合は\\\n",
    "  `エラー: ユーザー名は英数字のみ使用できます` と表示して\\\n",
    "  `False` を返してください。\n",
    "- すべての条件を満たす場合は、\\\n",
    "`True`を返す（※成功メッセージは表示しない）。\n",
    "\n",
    "__呼び出し側の仕様：__\n",
    "- ユーザーにユーザー名を入力させ、そのユーザー名が適切かを、上記のバリデーション関数で判定させてください。\n",
    "- バリデーションの結果、条件を満たしていたら\\\n",
    " `ユーザー名は有効です` と表示、\\\n",
    " そうでなければ\\\n",
    " `不正なユーザー名です` と表示してください。"
   ]
  },
  {
   "cell_type": "markdown",
   "id": "886310e4",
   "metadata": {},
   "source": [
    "## 実行結果の例"
   ]
  },
  {
   "cell_type": "markdown",
   "id": "992fefc5",
   "metadata": {},
   "source": [
    "ユーザー名を `JohnDoe123` と入力した場合\n",
    ">ユーザー名は有効です\n",
    "\n",
    "ユーザー名を `JD` と入力した場合\n",
    ">エラー: ユーザー名は5文字以上15文字以内で入力してください\\\n",
    "不正なユーザー名です\n",
    "\n",
    "ユーザー名を `John@Doe` と入力した場合\n",
    ">エラー: ユーザー名は英数字のみ使用できます\\\n",
    "不正なユーザー名です\n",
    "\n",
    "ユーザー名を `John Doe` と入力した場合\n",
    ">エラー: ユーザー名に空白を含めることはできません\\\n",
    "不正なユーザー名です"
   ]
  },
  {
   "cell_type": "markdown",
   "id": "d2ba3299",
   "metadata": {},
   "source": [
    "# プログラム"
   ]
  },
  {
   "cell_type": "code",
   "execution_count": null,
   "id": "ed668f25",
   "metadata": {},
   "outputs": [
    {
     "name": "stdout",
     "output_type": "stream",
     "text": [
      "ユーザー名を入力してください：藤本 3\n",
      "エラー: ユーザー名は5文字以上15文字以内で入力してください\n",
      "エラー: ユーザー名に空白を含めることはできません\n",
      "エラー: ユーザー名は英数字のみ使用できます\n",
      "不正なユーザー名です\n"
     ]
    }
   ],
   "source": [
    "import string\n",
    "\n",
    "# 関数：名前検証\n",
    "# 引数：検証対象（文字列）\n",
    "# 戻値：検証結果（bool型｜OK->True／NG->False）\n",
    "# 詳細：検証１．文字数チェック（5-15）\n",
    "#       検証２．空白チェック（string.whitespace）\n",
    "#       検証３．文字種チェック（英数字 ＝ isalnum() AND isascii()）\n",
    "def name_is_vaild(name):\n",
    "    min_len         =  5    # 文字数チェックの 最小文字数\n",
    "    max_len         = 15    # 文字数チェックの 最大文字数\n",
    "    result          = True  # 検証結果\n",
    "    replace_name    = None  # 空白除去後の 検証対象文字列\n",
    "\n",
    "    # 文字数チェック\n",
    "    if not ( min_len <= len(name) <= max_len ) :\n",
    "        result = False\n",
    "        print(\"エラー: ユーザー名は5文字以上15文字以内で入力してください\")\n",
    "    \n",
    "    # 空白チェック（string.whitespaceにある空白があれば False）\n",
    "    replace_name = name\n",
    "    for space in string.whitespace:\n",
    "        replace_name = str.replace(replace_name, space, \"\")\n",
    "    if name != replace_name:\n",
    "        result = False\n",
    "        print(\"エラー: ユーザー名に空白を含めることはできません\")\n",
    "    \n",
    "    # 文字種チェック（英字，数字のみ可）\n",
    "    # str.isalnum()では 全角文字がTrueとなった為、str.isascii()をAND条件として追加\n",
    "    if not ( replace_name.isalnum() and replace_name.isascii() ):\n",
    "        result = False\n",
    "        print(\"エラー: ユーザー名は英数字のみ使用できます\")\n",
    "    \n",
    "    return result\n",
    "\n",
    "### 以下、メイン処理\n",
    "\n",
    "username    = None  # 入力されたユーザー名\n",
    "\n",
    "print(\"ユーザー名を入力してください：\", end=\"\")\n",
    "username = input(\"ユーザー名を入力してください：\")\n",
    "print(username)\n",
    "\n",
    "if name_is_vaild(username):\n",
    "    print(\"ユーザー名は有効です\")\n",
    "else:\n",
    "    print(\"不正なユーザー名です\")"
   ]
  },
  {
   "cell_type": "markdown",
   "id": "6ac0c6c5",
   "metadata": {},
   "source": [
    "## 実行結果"
   ]
  },
  {
   "cell_type": "markdown",
   "id": "47155e22",
   "metadata": {},
   "source": [
    "ユーザー名を入力してください：JhonDoe123\\\n",
    "ユーザー名は有効です"
   ]
  },
  {
   "cell_type": "markdown",
   "id": "52cd4d7d",
   "metadata": {},
   "source": [
    "ユーザー名を入力してください：JD\\\n",
    "エラー: ユーザー名は5文字以上15文字以内で入力してください\\\n",
    "不正なユーザー名です"
   ]
  },
  {
   "cell_type": "markdown",
   "id": "b7ec7e4c",
   "metadata": {},
   "source": [
    "ユーザー名を入力してください：Jhon@Doe\\\n",
    "エラー: ユーザー名は英数字のみ使用できます\\\n",
    "不正なユーザー名です"
   ]
  },
  {
   "cell_type": "markdown",
   "id": "b6e1dded",
   "metadata": {},
   "source": [
    "ユーザー名を入力してください：Jhon Doe\\\n",
    "エラー: ユーザー名に空白を含めることはできません\\\n",
    "不正なユーザー名です"
   ]
  },
  {
   "cell_type": "markdown",
   "id": "32aa6363",
   "metadata": {},
   "source": [
    "ユーザー名を入力してください：藤本 3\\\n",
    "エラー: ユーザー名は5文字以上15文字以内で入力してください\\\n",
    "エラー: ユーザー名に空白を含めることはできません\\\n",
    "エラー: ユーザー名は英数字のみ使用できます\\\n",
    "不正なユーザー名です"
   ]
  }
 ],
 "metadata": {
  "kernelspec": {
   "display_name": ".venv",
   "language": "python",
   "name": "python3"
  },
  "language_info": {
   "codemirror_mode": {
    "name": "ipython",
    "version": 3
   },
   "file_extension": ".py",
   "mimetype": "text/x-python",
   "name": "python",
   "nbconvert_exporter": "python",
   "pygments_lexer": "ipython3",
   "version": "3.12.10"
  }
 },
 "nbformat": 4,
 "nbformat_minor": 5
}
